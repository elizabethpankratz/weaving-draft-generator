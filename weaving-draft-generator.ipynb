{
 "cells": [
  {
   "attachments": {},
   "cell_type": "markdown",
   "metadata": {},
   "source": [
    "# Code walkthrough\n",
    "\n",
    "Generates weaving draft from tie-up, threading, and treadling patterns provided as `numpy` arrays.\n",
    "\n",
    "Uses `skimage` to save image."
   ]
  },
  {
   "cell_type": "code",
   "execution_count": 178,
   "metadata": {},
   "outputs": [
    {
     "data": {
      "text/plain": [
       "<Figure size 432x288 with 0 Axes>"
      ]
     },
     "metadata": {},
     "output_type": "display_data"
    }
   ],
   "source": [
    "import pandas as pd\n",
    "import numpy as np\n",
    "from matplotlib import pyplot as plt\n",
    "from skimage import data, io, util\n",
    "\n",
    "# Default greyscale plots\n",
    "plt.gray()\n",
    "\n",
    "\n",
    "# Some helpful functions for display\n",
    "\n",
    "def display(img_array):\n",
    "    \"\"\"\n",
    "    Uses matplotlib to display image.\n",
    "\n",
    "    Arg:\n",
    "        img_array: np array representing image\n",
    "    Returns:\n",
    "        Nothing, displays image.\n",
    "    \"\"\"\n",
    "    plt.imshow(img_array)\n",
    "    plt.show()\n",
    "\n",
    "\n",
    "def inv(img_array):\n",
    "    \"\"\" \n",
    "    We encode a white cell as 0 and a black cell as 1, but by default, \n",
    "    skimage displays 0 as black and 1 as white. This functions inverts those values for display.\n",
    "\n",
    "    Arg:\n",
    "        img_array: np array representing image \n",
    "    Returns:\n",
    "        np array of the same dimensions as img_array with colours inverted\n",
    "    \"\"\"\n",
    "    return util.invert(img_array)\n",
    "\n",
    "\n",
    "def gen_bool_array(treadle_array):\n",
    "    \"\"\"\n",
    "    Arg:\n",
    "        treadle_array: array of arrays; inner arrays represent activated treadles in each row\n",
    "    Returns:\n",
    "        Array of arrays; for every weft row, one inner array, each containing 0 (not active)/1 (active) for every treadle.\n",
    "    \"\"\"\n",
    "    # Find max value and add 1; this is how many treadles there are\n",
    "    n_treadles = treadle_array.max() + 1\n",
    "\n",
    "    # Init list that will contain the 0/1 values for each row.\n",
    "    bool_treadle = []\n",
    "\n",
    "    # Iterate through treadle_array.\n",
    "    for curr_treadles in treadle_array:\n",
    "        \n",
    "        # Create zero array of length n_treadles.\n",
    "        bool_row = np.zeros(n_treadles)\n",
    "\n",
    "        # Replace the zeroes with ones at indices given in curr_treadles and append to accumulator list.\n",
    "        np.put(bool_row, curr_treadles, 1)\n",
    "        bool_treadle.append(bool_row)\n",
    "    \n",
    "    return np.array(bool_treadle)\n",
    "\n",
    "\n",
    "def display_threading(thread_spec):\n",
    "    \"\"\"\n",
    "    Arg:\n",
    "        thread_spec: np array; integer values represent harness of each thread.\n",
    "    Returns:\n",
    "        Nothing, displays image.\n",
    "    \"\"\"\n",
    "    display(inv(np.rot90(gen_bool_array(thread_spec))))\n",
    "\n",
    "\n",
    "def display_treadling(treadle_spec):\n",
    "    \"\"\" \n",
    "    Arg:\n",
    "        treadle_spec: np array of arrays; outer arrays = weft row, inner arrays = integer values representing active treadles.\n",
    "    Returns:\n",
    "        Nothing, displays image.\n",
    "    \"\"\"\n",
    "    display(inv(gen_bool_array(treadle_spec)))\n",
    "\n",
    "\n",
    "def display_tieup(tieup_spec):\n",
    "    \"\"\"\n",
    "    Arg:\n",
    "        tieup_spec: np array of arrays; outer arrays = harnesses bottom to top, inner arrays = bool values indicating tie-up to treadles.\n",
    "    Returns:\n",
    "        Nothing, displays image.\n",
    "    \"\"\"\n",
    "    display(inv(np.flip(tieup_spec, axis=0)))"
   ]
  },
  {
   "attachments": {},
   "cell_type": "markdown",
   "metadata": {},
   "source": [
    "# Defining tie-up\n",
    "\n",
    "The tie-up will be represented as an array of arrays.\n",
    "There is one inner array for each harness, *ordered from bottom to top* (so the array at index 0 is actually the bottom one in the schematic diagram).\n",
    "Each inner array contains one element per treadle, ordered from left to right (i,e., each column of the outer array represents one treadle).\n",
    "Each element in the inner array is either a 0 or 1; 0 represents that the given treadle is not tied up to the given harness (typically shown as white on a tie-up diagram), and 1 represents that the given treadle is ttied up to the given harness (typically shown as black).\n",
    "\n",
    "Thus, the tie-up for plain weave might be represented as:\n",
    "\n",
    "```\n",
    "[[1, 0],\n",
    " [0, 1]\n",
    "```\n",
    "\n",
    "What this looks like in a typical weaving draft (remember that the bottom row of the diagram is the zeroth element of the outer array):"
   ]
  },
  {
   "cell_type": "code",
   "execution_count": 179,
   "metadata": {},
   "outputs": [
    {
     "data": {
      "image/png": "[encoded data removed]",
      "text/plain": [
       "<Figure size 432x288 with 1 Axes>"
      ]
     },
     "metadata": {
      "needs_background": "light"
     },
     "output_type": "display_data"
    },
    {
     "data": {
      "image/png": "[encoded data removed]",
      "text/plain": [
       "<Figure size 432x288 with 1 Axes>"
      ]
     },
     "metadata": {
      "needs_background": "light"
     },
     "output_type": "display_data"
    }
   ],
   "source": [
    "pw_tieup = np.array([[1, 0], [0, 1]])\n",
    "display_tieup(pw_tieup)"
   ]
  },
  {
   "attachments": {},
   "cell_type": "markdown",
   "metadata": {},
   "source": [
    "Tie-up for 2x2 twill:\n",
    "\n",
    "```\n",
    "[[1, 0, 0, 1],\n",
    " [1, 1, 0, 0],\n",
    " [0, 1, 1, 0],\n",
    " [0, 0, 1, 1]]\n",
    "```\n",
    "\n",
    "Here it becomes clearer that the zeroth index of the outer array (i.e., first row of this array) is actually the _bottom_ row of the tie-up diagram."
   ]
  },
  {
   "cell_type": "code",
   "execution_count": 181,
   "metadata": {},
   "outputs": [
    {
     "data": {
      "image/png": "[encoded data removed]",
      "text/plain": [
       "<Figure size 432x288 with 1 Axes>"
      ]
     },
     "metadata": {
      "needs_background": "light"
     },
     "output_type": "display_data"
    }
   ],
   "source": [
    "twill2x2_tieup = np.array([[1, 0, 0, 1], [1, 1, 0, 0], [0, 1, 1, 0], [0, 0, 1, 1]])\n",
    "display_tieup(twill2x2_tieup)"
   ]
  },
  {
   "attachments": {},
   "cell_type": "markdown",
   "metadata": {},
   "source": [
    "# Defining treadling\n",
    "\n",
    "The treadling will be represented as an array of arrays.\n",
    "Each inner array represents a weft row, ordered from top to bottom.\n",
    "Each inner array contains which treadles are pressed down on that row.\n",
    "\n",
    "Plain weave treadling of 6 rows:\n",
    "\n",
    "```\n",
    "[[1],\n",
    " [0],\n",
    " [1],\n",
    " [0],\n",
    " [1],\n",
    " [0]]\n",
    "```\n",
    "\n",
    "In a typical weaving draft:\n"
   ]
  },
  {
   "cell_type": "code",
   "execution_count": 183,
   "metadata": {},
   "outputs": [
    {
     "data": {
      "image/png": "[encoded data removed]",
      "text/plain": [
       "<Figure size 432x288 with 1 Axes>"
      ]
     },
     "metadata": {
      "needs_background": "light"
     },
     "output_type": "display_data"
    }
   ],
   "source": [
    "pw_treadle = np.array([[1], [0], [1], [0], [1], [0]])\n",
    "display_treadling(pw_treadle)"
   ]
  },
  {
   "attachments": {},
   "cell_type": "markdown",
   "metadata": {},
   "source": [
    "2x2 twill treadling with 12 rows:\n",
    "\n",
    "```\n",
    "[[0],\n",
    " [1],\n",
    " [2],\n",
    " [3],\n",
    " [0],\n",
    " [1],\n",
    " [2],\n",
    " [3],\n",
    " [0],\n",
    " [1],\n",
    " [2],\n",
    " [3]]\n",
    "```"
   ]
  },
  {
   "cell_type": "code",
   "execution_count": 184,
   "metadata": {},
   "outputs": [
    {
     "data": {
      "image/png": "[encoded data removed]",
      "text/plain": [
       "<Figure size 432x288 with 1 Axes>"
      ]
     },
     "metadata": {
      "needs_background": "light"
     },
     "output_type": "display_data"
    }
   ],
   "source": [
    "twill2x2_treadle = np.array([[0], [1], [2], [3], [0], [1], [2], [3], [0], [1], [2], [3]])\n",
    "display_treadling(twill2x2_treadle)"
   ]
  },
  {
   "attachments": {},
   "cell_type": "markdown",
   "metadata": {},
   "source": [
    "The same 2x2 twill treadling, but with the opposite treadles pushed down (to show that the code can handle multiple treadles per row):\n",
    "\n",
    "```\n",
    "[[1, 2, 3],\n",
    " [0, 2, 3],\n",
    " [0, 1, 3],\n",
    " [0, 1, 2],\n",
    " [1, 2, 3],\n",
    " [0, 2, 3],\n",
    " [0, 1, 3],\n",
    " [0, 1, 2],\n",
    " [1, 2, 3],\n",
    " [0, 2, 3],\n",
    " [0, 1, 3],\n",
    " [0, 1, 2]]\n",
    "```"
   ]
  },
  {
   "cell_type": "code",
   "execution_count": 185,
   "metadata": {},
   "outputs": [
    {
     "data": {
      "image/png": "[encoded data removed]",
      "text/plain": [
       "<Figure size 432x288 with 1 Axes>"
      ]
     },
     "metadata": {
      "needs_background": "light"
     },
     "output_type": "display_data"
    }
   ],
   "source": [
    "twill2x2_treadle_opp = np.array([[1, 2, 3], [0, 2, 3], [0, 1, 3], [0, 1, 2], [1, 2, 3], [0, 2, 3], [0, 1, 3], [0, 1, 2], [1, 2, 3], [0, 2, 3], [0, 1, 3], [0, 1, 2]])\n",
    "display_treadling(twill2x2_treadle_opp)"
   ]
  },
  {
   "attachments": {},
   "cell_type": "markdown",
   "metadata": {},
   "source": [
    "# Defining the threading\n",
    "\n",
    "The third and final piece of information required for generating the draw-down is the threading.\n",
    "Since each warp thread (i.e., each _end_) can only go through one harness, the threading will be encoded as a one-dimensional array containing at each index the harness that the thread of that index goes through, from left to right.\n",
    "\n",
    "Plain weave threading with 8 ends:\n",
    "\n",
    "```\n",
    "[0, 1, 0, 1, 0, 1, 0, 1]\n",
    "```\n",
    "\n",
    "In a typical weaving draft:"
   ]
  },
  {
   "cell_type": "code",
   "execution_count": 186,
   "metadata": {},
   "outputs": [
    {
     "data": {
      "image/png": "[encoded data removed]",
      "text/plain": [
       "<Figure size 432x288 with 1 Axes>"
      ]
     },
     "metadata": {
      "needs_background": "light"
     },
     "output_type": "display_data"
    }
   ],
   "source": [
    "pw_thread = np.array([0, 1, 0, 1, 0, 1, 0, 1])\n",
    "display_threading(pw_thread)"
   ]
  },
  {
   "attachments": {},
   "cell_type": "markdown",
   "metadata": {},
   "source": [
    "2x2 twill threading with 16 ends:\n",
    "\n",
    "```\n",
    "[0, 1, 2, 3, 0, 1, 2, 3, 0, 1, 2, 3, 0, 1, 2, 3]\n",
    "```\n",
    "\n",
    "We can use the same function for this as for generating the bool array for the treadling, as long a we rotate it 90 degrees to get the threading.\n",
    "So, in a typical weaving draft:"
   ]
  },
  {
   "cell_type": "code",
   "execution_count": 187,
   "metadata": {},
   "outputs": [
    {
     "data": {
      "image/png": "[encoded data removed]",
      "text/plain": [
       "<Figure size 432x288 with 1 Axes>"
      ]
     },
     "metadata": {
      "needs_background": "light"
     },
     "output_type": "display_data"
    }
   ],
   "source": [
    "twill2x2_thread = np.array([0, 1, 2, 3, 0, 1, 2, 3, 0, 1, 2, 3, 0, 1, 2, 3])\n",
    "display_threading(twill2x2_thread)"
   ]
  },
  {
   "attachments": {},
   "cell_type": "markdown",
   "metadata": {},
   "source": [
    "# The fabric draw-down\n",
    "\n",
    "The fabric is generated as a function of the tie-up, treadling, and threading.\n",
    "\n",
    "- Generate a zero array of shape `(n_weft, n_warp)` where `n_weft` is the number of elements in the treadling specification, and `n_warp` the number of elements in the threading specification.\n",
    "- For `row_idx` of outer array:\n",
    "- For `end_idx` of inner array:\n",
    "- get treadling at `row_idx` (array of ints) and threading at `end_idx` (int)\n",
    "- get the int of the threading (i.e. the harness), and look at what treadle(s) that harness is tied to\n",
    "- check if any of those treadles are activated (i.e., in the current treadling). if they are, then replace the value in the current cell `(row_idx, end_idx)` with 1."
   ]
  },
  {
   "cell_type": "code",
   "execution_count": 153,
   "metadata": {},
   "outputs": [],
   "source": [
    "def gen_fabric(tieup_spec, treadle_spec, thread_spec):\n",
    "    \"\"\"\n",
    "    Args:\n",
    "        tieup_spec: np array of arrays; outer arrays = harnesses bottom to top, inner arrays = bool values indicating tie-up to treadles.\n",
    "        treadle_spec: np array of arrays; outer arrays = weft row, inner arrays = integer values representing active treadles.\n",
    "        thread_spec: np array; integer values represent harness of each thread.\n",
    "    Returns:\n",
    "        np array of shape (len(treadle_spec), len(thread_spec)) with values 0 (weft-face) and 1 (warp-face)\n",
    "    \"\"\"\n",
    "\n",
    "    # Check that the dimensions are all compatible: \n",
    "    # n rows in tieup = max+1 of thread_spec.\n",
    "    n_harnesses = thread_spec.max() + 1\n",
    "    assert n_harnesses == tieup_spec.shape[0], \"Number of rows in tie-up don't match number of harnesses\"\n",
    "\n",
    "    # n columns in tieup = max+1 of treadle_spec.\n",
    "    n_treadles = treadle_spec.max() + 1\n",
    "    assert n_treadles == tieup_spec.shape[1], \"Number of columns in tie-up don't match number of treadles\"\n",
    "\n",
    "    # Get the number of weft picks and warp ends in the fabric.\n",
    "    n_weft = len(treadle_spec)\n",
    "    n_warp = len(thread_spec)\n",
    "\n",
    "    # Init drawdown array filled with zeroes.\n",
    "    drawdown = np.zeros((n_weft, n_warp))\n",
    "\n",
    "    # Iterate through elements of outer array (i.e., weft rows), and then through\n",
    "    # elements of inner array (i.e., warp ends).\n",
    "\n",
    "    for row_idx in range(n_weft):\n",
    "        for end_idx in range(n_warp):\n",
    "            # print('\\nROW {0} END {1}'.format(row_idx, end_idx))\n",
    "\n",
    "            # Get the harness through which the current end is threaded; an int.\n",
    "            curr_harness = thread_spec[end_idx]\n",
    "            # print(\"this end's harness:\", curr_harness)\n",
    "\n",
    "            # Check in the tie-up which treadles are tied to this harness.\n",
    "            this_harness_tie_up = tieup_spec[curr_harness]\n",
    "            # print(this_harness_tie_up)\n",
    "            tied_up_treadles = np.nonzero(this_harness_tie_up)[0]\n",
    "            # print(tied_up_treadles)\n",
    "\n",
    "            # Check whether any of these treadles are contained in current treadling.\n",
    "            curr_treadling = treadle_spec[row_idx]\n",
    "            # print(\"this row's treadling:\", curr_treadling)\n",
    "\n",
    "            # If the intersection of elements in this array is >0 (i.e., there's overlap between tie-up and current treadling),\n",
    "            # then the current warp thread is lifted, so we should assign this cell in drawdown a 1.\n",
    "            treadle_intersect = np.intersect1d(tied_up_treadles, curr_treadling)\n",
    "            if len(treadle_intersect) != 0:\n",
    "                # print('warp thread lifted!')\n",
    "                drawdown[row_idx, end_idx] = 1\n",
    "\n",
    "    return drawdown\n"
   ]
  },
  {
   "attachments": {},
   "cell_type": "markdown",
   "metadata": {},
   "source": [
    "# Examples"
   ]
  },
  {
   "attachments": {},
   "cell_type": "markdown",
   "metadata": {},
   "source": [
    "## Plain weave"
   ]
  },
  {
   "cell_type": "code",
   "execution_count": 155,
   "metadata": {},
   "outputs": [
    {
     "data": {
      "image/png": "[encoded data removed]",
      "text/plain": [
       "<Figure size 432x288 with 1 Axes>"
      ]
     },
     "metadata": {
      "needs_background": "light"
     },
     "output_type": "display_data"
    }
   ],
   "source": [
    "pw_fabric = gen_fabric(pw_tieup, pw_treadle, pw_thread) \n",
    "display(inv(pw_fabric))"
   ]
  },
  {
   "attachments": {},
   "cell_type": "markdown",
   "metadata": {},
   "source": [
    "## 2x2 twill\n",
    "\n",
    "First up, straight threading."
   ]
  },
  {
   "cell_type": "code",
   "execution_count": 154,
   "metadata": {},
   "outputs": [
    {
     "data": {
      "image/png": "[encoded data removed]",
      "text/plain": [
       "<Figure size 432x288 with 1 Axes>"
      ]
     },
     "metadata": {
      "needs_background": "light"
     },
     "output_type": "display_data"
    }
   ],
   "source": [
    "twill2x2_fabric = gen_fabric(twill2x2_tieup, twill2x2_treadle, twill2x2_thread) \n",
    "display(inv(twill2x2_fabric))"
   ]
  },
  {
   "attachments": {},
   "cell_type": "markdown",
   "metadata": {},
   "source": [
    "### Herringbone\n",
    "\n",
    "All that changes between the 2x2 twill above and herringbone is the threading."
   ]
  },
  {
   "cell_type": "code",
   "execution_count": 170,
   "metadata": {},
   "outputs": [
    {
     "data": {
      "image/png": "[encoded data removed]",
      "text/plain": [
       "<Figure size 432x288 with 1 Axes>"
      ]
     },
     "metadata": {
      "needs_background": "light"
     },
     "output_type": "display_data"
    }
   ],
   "source": [
    "herringbone_thread = np.array([0, 1, 2, 3]*2 + [1, 0, 3, 2]*2 + [0, 1, 2, 3]*2 + [1, 0, 3, 2]*2)\n",
    "\n",
    "# Display threading\n",
    "display_threading(herringbone_thread)"
   ]
  },
  {
   "cell_type": "code",
   "execution_count": 166,
   "metadata": {},
   "outputs": [
    {
     "data": {
      "image/png": "[encoded data removed]",
      "text/plain": [
       "<Figure size 432x288 with 1 Axes>"
      ]
     },
     "metadata": {
      "needs_background": "light"
     },
     "output_type": "display_data"
    }
   ],
   "source": [
    "twill2x2_fabric = gen_fabric(twill2x2_tieup, twill2x2_treadle, herringbone_thread) \n",
    "display(inv(twill2x2_fabric))"
   ]
  },
  {
   "attachments": {},
   "cell_type": "markdown",
   "metadata": {},
   "source": [
    "# 3x1 twill\n",
    "\n",
    "Straight threading and treadling"
   ]
  },
  {
   "cell_type": "code",
   "execution_count": 188,
   "metadata": {},
   "outputs": [
    {
     "data": {
      "image/png": "[encoded data removed]",
      "text/plain": [
       "<Figure size 432x288 with 1 Axes>"
      ]
     },
     "metadata": {
      "needs_background": "light"
     },
     "output_type": "display_data"
    }
   ],
   "source": [
    "twill3x1_tieup = np.array([[0,1,1,1], [1,0,1,1], [1,1,0,1], [1,1,1,0]])\n",
    "\n",
    "display_tieup(twill3x1_tieup)"
   ]
  },
  {
   "cell_type": "code",
   "execution_count": 177,
   "metadata": {},
   "outputs": [
    {
     "data": {
      "image/png": "[encoded data removed]",
      "text/plain": [
       "<Figure size 432x288 with 1 Axes>"
      ]
     },
     "metadata": {
      "needs_background": "light"
     },
     "output_type": "display_data"
    }
   ],
   "source": [
    "twill3x1_fabric = gen_fabric(twill3x1_tieup, twill2x2_treadle, twill2x2_thread)\n",
    "display(inv(twill3x1_fabric))"
   ]
  },
  {
   "attachments": {},
   "cell_type": "markdown",
   "metadata": {},
   "source": [
    "Zigzag threading, straight treadling"
   ]
  },
  {
   "cell_type": "code",
   "execution_count": 171,
   "metadata": {},
   "outputs": [
    {
     "data": {
      "image/png": "[encoded data removed]",
      "text/plain": [
       "<Figure size 432x288 with 1 Axes>"
      ]
     },
     "metadata": {
      "needs_background": "light"
     },
     "output_type": "display_data"
    }
   ],
   "source": [
    "zigzag_thread = np.array([3,2,1,0]*2 + [3] + [0,1,2,3]*2 + [2,1,0] + [3,2,1,0])\n",
    "\n",
    "display_threading(zigzag_thread)"
   ]
  },
  {
   "cell_type": "code",
   "execution_count": 172,
   "metadata": {},
   "outputs": [
    {
     "data": {
      "image/png": "[encoded data removed]",
      "text/plain": [
       "<Figure size 432x288 with 1 Axes>"
      ]
     },
     "metadata": {
      "needs_background": "light"
     },
     "output_type": "display_data"
    }
   ],
   "source": [
    "twill3x1_fabric = gen_fabric(twill3x1_tieup, twill2x2_treadle, zigzag_thread)\n",
    "display(inv(twill3x1_fabric))"
   ]
  },
  {
   "attachments": {},
   "cell_type": "markdown",
   "metadata": {},
   "source": [
    "Zigzag threading and treadling a la https://www.pinterest.com/pin/351562314662796215/ \n"
   ]
  },
  {
   "cell_type": "code",
   "execution_count": 173,
   "metadata": {},
   "outputs": [
    {
     "data": {
      "image/png": "[encoded data removed]",
      "text/plain": [
       "<Figure size 432x288 with 1 Axes>"
      ]
     },
     "metadata": {
      "needs_background": "light"
     },
     "output_type": "display_data"
    }
   ],
   "source": [
    "zigzag_treadle = np.array([[0], [1], [2], [3], [ 0], [1], [2], [3], [ 2], [1], [0], [ 3], [2], [1], [ 0], [1], [2], [3], [ 0], [1], [2], [3], [ 2], [1], [0], [ 3], [2], [1]])\n",
    "display_treadling(zigzag_treadle)"
   ]
  },
  {
   "cell_type": "code",
   "execution_count": 174,
   "metadata": {},
   "outputs": [
    {
     "data": {
      "image/png": "[encoded data removed]",
      "text/plain": [
       "<Figure size 432x288 with 1 Axes>"
      ]
     },
     "metadata": {
      "needs_background": "light"
     },
     "output_type": "display_data"
    }
   ],
   "source": [
    "twill3x1_fabric = gen_fabric(twill3x1_tieup, zigzag_treadle, zigzag_thread)\n",
    "display(inv(twill3x1_fabric))"
   ]
  },
  {
   "attachments": {},
   "cell_type": "markdown",
   "metadata": {},
   "source": [
    "# TODO: Display full weaving draft"
   ]
  },
  {
   "cell_type": "code",
   "execution_count": null,
   "metadata": {},
   "outputs": [],
   "source": []
  }
 ],
 "metadata": {
  "kernelspec": {
   "display_name": "base",
   "language": "python",
   "name": "python3"
  },
  "language_info": {
   "codemirror_mode": {
    "name": "ipython",
    "version": 3
   },
   "file_extension": ".py",
   "mimetype": "text/x-python",
   "name": "python",
   "nbconvert_exporter": "python",
   "pygments_lexer": "ipython3",
   "version": "3.8.8"
  },
  "orig_nbformat": 4,
  "vscode": {
   "interpreter": {
    "hash": "2254d95886abd510fdbe4740a73329c02480b002321aba449e3a8ac32ef99413"
   }
  }
 },
 "nbformat": 4,
 "nbformat_minor": 2
}
