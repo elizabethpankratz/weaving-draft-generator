{
 "cells": [
  {
   "attachments": {},
   "cell_type": "markdown",
   "metadata": {},
   "source": [
    "# Code development notebook\n",
    "\n",
    "Generates weaving draft from tie-up, threading, and treadling patterns.\n",
    "\n",
    "Black threads represent a warp-face intersection, white represents weft-face intersection.\n",
    "\n",
    "See [Lauren Nishizaki's implementation](https://observablehq.com/@lemonnish/generate-a-weaving-draft#cell-158) for a very clear explanation and illustration of the four components of the weaving draft."
   ]
  },
  {
   "cell_type": "code",
   "execution_count": 65,
   "metadata": {},
   "outputs": [
    {
     "name": "stdout",
     "output_type": "stream",
     "text": [
      "Plain weave:\n"
     ]
    },
    {
     "data": {
      "image/png": "[encoded data removed]",
      "text/plain": [
       "<Figure size 432x288 with 1 Axes>"
      ]
     },
     "metadata": {
      "needs_background": "light"
     },
     "output_type": "display_data"
    },
    {
     "name": "stdout",
     "output_type": "stream",
     "text": [
      "3x1 twill:\n"
     ]
    },
    {
     "data": {
      "image/png": "[encoded data removed]",
      "text/plain": [
       "<Figure size 432x288 with 1 Axes>"
      ]
     },
     "metadata": {
      "needs_background": "light"
     },
     "output_type": "display_data"
    },
    {
     "name": "stdout",
     "output_type": "stream",
     "text": [
      "2x2 twill (straight threading):\n"
     ]
    },
    {
     "data": {
      "image/png": "[encoded data removed]",
      "text/plain": [
       "<Figure size 432x288 with 1 Axes>"
      ]
     },
     "metadata": {
      "needs_background": "light"
     },
     "output_type": "display_data"
    },
    {
     "name": "stdout",
     "output_type": "stream",
     "text": [
      "2x2 twill (herringbone threading):\n"
     ]
    },
    {
     "data": {
      "image/png": "[encoded data removed]",
      "text/plain": [
       "<Figure size 432x288 with 1 Axes>"
      ]
     },
     "metadata": {
      "needs_background": "light"
     },
     "output_type": "display_data"
    }
   ],
   "source": [
    "import numpy as np\n",
    "from matplotlib import pyplot as plt\n",
    "from skimage import util\n",
    "\n",
    "# Create all plots as greyscale; else the default will be viridis.\n",
    "plt.gray()\n",
    "\n",
    "\n",
    "def inv(img_array):\n",
    "    \"\"\" \n",
    "    This encoding represents a white cell as 0 and a black cell as 1, but by default, \n",
    "    skimage displays 0 as black and 1 as white. This functions inverts those values for display.\n",
    "\n",
    "    Arg:\n",
    "        img_array: np array representing image \n",
    "    Returns:\n",
    "        np array of the same dimensions as img_array with colours inverted\n",
    "    \"\"\"\n",
    "    return util.invert(img_array)\n",
    "\n",
    "\n",
    "def display_fabric(fabric_array):\n",
    "    \"\"\"\n",
    "    Uses matplotlib to display image.\n",
    "\n",
    "    Arg:\n",
    "        fabric_array: np array representing the generated fabric (0s and 1s)\n",
    "    Returns:\n",
    "        Nothing, displays image.\n",
    "    \"\"\"\n",
    "    plt.axis('off')\n",
    "    plt.imshow(inv(fabric_array))\n",
    "\n",
    "\n",
    "def gen_bool_array(numbered_array):\n",
    "    \"\"\"\n",
    "    Transforms a provided array containing numbered treadles or harnesses into a two-dimensional boolean array\n",
    "    (useful for displaying).\n",
    "\n",
    "    Arg:\n",
    "        numbered_array: numpy array, either of arrays (for treadling) or integers (for threading)\n",
    "    Returns:\n",
    "        Array of arrays; for every weft row, one inner array, each containing 0 (not active)/1 (active) for every treadle.\n",
    "    \"\"\"\n",
    "    # Find max value and add 1; this is how many treadles there are\n",
    "    n_treadles = numbered_array.max() + 1\n",
    "\n",
    "    # Init list that will contain the 0/1 values for each row.\n",
    "    bool_treadle = []\n",
    "\n",
    "    # Iterate through treadle_array.\n",
    "    for curr_treadles in numbered_array:\n",
    "        \n",
    "        # Create zero array of length n_treadles.\n",
    "        bool_row = np.zeros(n_treadles)\n",
    "\n",
    "        # Replace the zeroes with ones at indices given in curr_treadles and append to accumulator list.\n",
    "        np.put(bool_row, curr_treadles, 1)\n",
    "        bool_treadle.append(bool_row)\n",
    "    \n",
    "    return np.array(bool_treadle)\n",
    "\n",
    "\n",
    "def display_threading(thread_spec):\n",
    "    \"\"\"\n",
    "    Arg:\n",
    "        thread_spec: np array; integer values represent harness of each thread.\n",
    "    Returns:\n",
    "        Nothing, displays image.\n",
    "    \"\"\"\n",
    "    plt.imshow(inv(np.rot90(gen_bool_array(thread_spec))))\n",
    "\n",
    "\n",
    "def display_treadling(treadle_spec):\n",
    "    \"\"\" \n",
    "    Arg:\n",
    "        treadle_spec: np array of arrays; outer arrays = weft row, inner arrays = integer values representing active treadles.\n",
    "    Returns:\n",
    "        Nothing, displays image.\n",
    "    \"\"\"\n",
    "    plt.imshow(inv(gen_bool_array(treadle_spec)))\n",
    "\n",
    "\n",
    "def display_tieup(tieup_spec):\n",
    "    \"\"\"\n",
    "    Arg:\n",
    "        tieup_spec: np array of arrays; outer arrays = harnesses bottom to top, inner arrays = bool values indicating tie-up to treadles.\n",
    "    Returns:\n",
    "        Nothing, displays image.\n",
    "    \"\"\"\n",
    "    plt.imshow(inv(np.flip(tieup_spec, axis=0)))\n",
    "\n",
    "\n",
    "def gen_fabric(tieup_spec, treadle_spec, thread_spec):\n",
    "    \"\"\"\n",
    "    Uses provided tie-up, treadling, and threading to genereate the resulting fabric.\n",
    "\n",
    "    Args:\n",
    "        tieup_spec: np array of arrays; outer arrays = harnesses bottom to top, inner arrays = bool values indicating tie-up to treadles.\n",
    "        treadle_spec: np array of arrays; outer arrays = weft row, inner arrays = integer values representing active treadles.\n",
    "        thread_spec: np array; integer values represent harness of each thread.\n",
    "    Returns:\n",
    "        np array of shape (len(treadle_spec), len(thread_spec)) with values 0 (weft-face) and 1 (warp-face)\n",
    "    \"\"\"\n",
    "\n",
    "    # Check that the dimensions are all compatible: \n",
    "    # n rows in tieup = max+1 of thread_spec.\n",
    "    n_harnesses = thread_spec.max() + 1\n",
    "    assert n_harnesses == tieup_spec.shape[0], \"Number of rows in tie-up don't match number of harnesses\"\n",
    "\n",
    "    # n columns in tieup = max+1 of treadle_spec.\n",
    "    n_treadles = treadle_spec.max() + 1\n",
    "    assert n_treadles == tieup_spec.shape[1], \"Number of columns in tie-up don't match number of treadles\"\n",
    "\n",
    "    # Get the number of weft picks and warp ends in the fabric.\n",
    "    n_weft = len(treadle_spec)\n",
    "    n_warp = len(thread_spec)\n",
    "\n",
    "    # Init drawdown array filled with zeroes.\n",
    "    drawdown = np.zeros((n_weft, n_warp))\n",
    "\n",
    "    # Iterate through elements of outer array (i.e., weft rows), and then through\n",
    "    # elements of inner array (i.e., warp ends).\n",
    "\n",
    "    for row_idx in range(n_weft):\n",
    "        for end_idx in range(n_warp):\n",
    "\n",
    "            # Get the harness through which the current end is threaded; an int.\n",
    "            curr_harness = thread_spec[end_idx]\n",
    "\n",
    "            # Check in the tie-up which treadles are tied to this harness.\n",
    "            this_harness_tie_up = tieup_spec[curr_harness]\n",
    "            tied_up_treadles = np.nonzero(this_harness_tie_up)[0]\n",
    "\n",
    "            # Check whether any of these treadles are contained in current treadling.\n",
    "            curr_treadling = treadle_spec[row_idx]\n",
    "\n",
    "            # If the intersection of elements in this array is >0 (i.e., there's overlap between tie-up and current treadling),\n",
    "            # then the current warp thread is lifted, so we should assign this cell in drawdown a 1.\n",
    "            treadle_intersect = np.intersect1d(tied_up_treadles, curr_treadling)\n",
    "            if len(treadle_intersect) != 0:\n",
    "                drawdown[row_idx, end_idx] = 1\n",
    "\n",
    "    return drawdown\n",
    "\n",
    "\n",
    "def display_full_draft(tieup_spec, treadle_spec, thread_spec, n_pixel_sep=1, overlay_grid=True, filename=None):\n",
    "    \"\"\"\n",
    "    Generates fabric based on provided tie-up, treadling, and threading. \n",
    "    Combines these four components into a traditionally-formatted weaving draft.\n",
    "    If filename not None, saves as pdf in the provided location.\n",
    "\n",
    "    Args:\n",
    "        tieup_spec: np array of arrays; outer arrays = harnesses bottom to top, inner arrays = bool values indicating tie-up to treadles.\n",
    "        treadle_spec: np array of arrays; outer arrays = weft row, inner arrays = integer values representing active treadles.\n",
    "        thread_spec: np array; integer values represent harness of each thread.\n",
    "        n_pixel_sep: int, the number of pixels as whitespace padding between each rectangle in draft (default 1)\n",
    "        overlay_grid: bool, whether or not to include pixel grid (default True)\n",
    "        filename: string ending in '.pdf', the desired filename (potentially incl. full path) to save the draft under (default None)\n",
    "    Returns:\n",
    "        Nothing, displays image and, if filename not None, saves image in provided path.\n",
    "    \"\"\"\n",
    "    # Generate the upper part of the draft by combining threading, padding, and tie-up.\n",
    "    padding_upper = np.zeros((tieup_spec.shape[0], n_pixel_sep))\n",
    "    thread_bool = np.rot90(gen_bool_array(thread_spec))\n",
    "    tieup_bool = np.flip(tieup_spec, axis=0)\n",
    "    upper = np.column_stack([thread_bool, padding_upper, tieup_bool])\n",
    "\n",
    "    # Generate the second \"row\" by generating fabric drawdown and combining it with tall padding and treadling.\n",
    "    padding_lower = np.zeros((len(treadle_spec), n_pixel_sep))\n",
    "    fabric_bool = gen_fabric(tieup_spec, treadle_spec, thread_spec)\n",
    "    treadle_bool = gen_bool_array(treadle_spec)\n",
    "    lower = np.column_stack([fabric_bool, padding_lower, treadle_bool])\n",
    "\n",
    "    # Ensure that both rows have same width.\n",
    "    assert upper.shape[1] == lower.shape[1], 'Upper and lower rows do not have same width'\n",
    "\n",
    "    # Stack the two rows and put wide padding in between.\n",
    "    padding_wide = np.zeros((n_pixel_sep, upper.shape[1]))\n",
    "    draft = np.row_stack([upper, padding_wide, lower])\n",
    "\n",
    "    # Now the display code.\n",
    "    plt.axis('off')\n",
    "    plt.imshow(inv(draft))\n",
    "\n",
    "    # Messy code for plotting gridlines over each of the components individually (that is, not over padding)\n",
    "    if overlay_grid:\n",
    "\n",
    "        # Threading grid\n",
    "        thread_rows, thread_cols = thread_bool.shape\n",
    "        for row_idx in range(thread_rows+1):\n",
    "            # only subtracting 3.5 from xmax here so that hline is long enough to create corner at top right\n",
    "            plt.hlines(y = row_idx - 0.5, xmin = -0.5, xmax = thread_cols - 0.5, color='black', linewidth=0.3)\n",
    "        for col_idx in range(thread_cols+1):\n",
    "            plt.vlines(x = col_idx - 0.5, ymin = -0.5, ymax = thread_rows - 0.5, color='black', linewidth=0.3)\n",
    "\n",
    "        # Tie-up grid\n",
    "        tieup_rows, tieup_cols = tieup_bool.shape\n",
    "        tieup_start_x = thread_bool.shape[1] + n_pixel_sep  # offset\n",
    "        for row_idx in range(tieup_rows+1):\n",
    "            # subtracting 0.64 from xmin and 0.35 from xmax instead of 0.5 to get square corners at bottom edges\n",
    "            plt.hlines(y = row_idx - 0.5, xmin = tieup_start_x - 0.5, xmax = tieup_start_x + tieup_cols - 0.5, color='black', linewidth=0.3)\n",
    "        for col_idx in range(tieup_start_x, tieup_start_x + tieup_cols+1):\n",
    "            plt.vlines(x = col_idx - 0.5, ymin = -0.5, ymax = tieup_rows - 0.5, color='black', linewidth=0.3)\n",
    "\n",
    "        # Fabric grid\n",
    "        fabric_rows, fabric_cols = fabric_bool.shape\n",
    "        fabric_start_y = thread_bool.shape[0] + n_pixel_sep # offset\n",
    "        for row_idx in range(fabric_start_y, fabric_start_y + fabric_rows+1):\n",
    "            # only subtracting 3.5 from xmax here so that hline is long enough to get square corner at top right\n",
    "            plt.hlines(y = row_idx - 0.5, xmin = -0.5, xmax = fabric_cols - 0.5, color='black', linewidth=0.3)\n",
    "        for col_idx in range(fabric_cols+1):\n",
    "            plt.vlines(x = col_idx - 0.5, ymin = fabric_start_y-0.5, ymax = fabric_start_y + fabric_rows - 0.5, color='black', linewidth=0.3)\n",
    "\n",
    "        # Treadling grid\n",
    "        treadle_rows, treadle_cols = treadle_bool.shape\n",
    "        treadle_start_x =  fabric_bool.shape[1] + n_pixel_sep  # offset\n",
    "        treadle_start_y = thread_bool.shape[0] + n_pixel_sep   # offset\n",
    "        for row_idx in range(treadle_start_y, treadle_start_y + treadle_rows+1):\n",
    "            # subtracting 0.64 from xmin and 0.35 from xmax instead of 0.5 to get square corners at bottom edges\n",
    "            plt.hlines(y = row_idx - 0.5, xmin = treadle_start_x - 0.5, xmax =treadle_start_x + treadle_cols - 0.5, color='black', linewidth=0.3)\n",
    "        for col_idx in range(treadle_start_x, treadle_start_x + treadle_cols+1):\n",
    "            plt.vlines(x = col_idx - 0.5, ymin = treadle_start_y-0.5, ymax = treadle_start_y + treadle_rows - 0.5, color='black', linewidth=0.3)\n",
    "\n",
    "    if filename != None:\n",
    "        # Saving img as pdf gives best result; rasterised image formats don't align \n",
    "        # the hlines and vlines with the cells very nicely.\n",
    "        assert filename.endswith('.pdf'), 'Please provide a filename with a .pdf extension, e.g., \"myfile.pdf\".'\n",
    "        plt.savefig(filename, dpi=300, bbox_inches='tight')\n",
    "    \n",
    "    plt.show()\n",
    "\n",
    "\n",
    "if __name__ == '__main__':\n",
    "    print('Plain weave:')\n",
    "    pw_tieup = np.array([[1, 0], [0, 1]])\n",
    "    # The number at the end of this variable means that the straight treadling is for 2 treadles,\n",
    "    # and the straight threading is for 2 harnesses.\n",
    "    straight_treadle_2 = np.array([[1], [0]] * 8)\n",
    "    straight_thread_2 = np.array([0, 1] * 10)\n",
    "    display_full_draft(pw_tieup, straight_treadle_2, straight_thread_2)\n",
    "    \n",
    "    print(\"3x1 twill:\")\n",
    "    twill3x1_tieup = np.array([[1, 0, 0, 0], [0, 1, 0, 0], [0, 0, 1, 0], [0, 0, 0, 1]])\n",
    "    straight_treadle_4 = np.array([[0], [1], [2], [3]] * 6)\n",
    "    straight_thread_4 = np.array([0, 1, 2, 3] * 8)\n",
    "    display_full_draft(twill3x1_tieup, straight_treadle_4, straight_thread_4)\n",
    "    \n",
    "    print(\"2x2 twill (straight threading):\")\n",
    "    twill2x2_tieup = np.array([[1, 0, 0, 1], [1, 1, 0, 0], [0, 1, 1, 0], [0, 0, 1, 1]])\n",
    "    # We can reuse the same straight treadling and threading from before!\n",
    "    display_full_draft(twill2x2_tieup, straight_treadle_4, straight_thread_4)\n",
    "\n",
    "    print(\"2x2 twill (herringbone threading):\")\n",
    "    herringbone_thread = np.array(np.concatenate([[0, 1, 2, 3] * 2 + [1, 0, 3, 2] * 2] * 3))\n",
    "    # We can reuse the same tie-up and straight treadling as above.\n",
    "    display_full_draft(twill2x2_tieup, straight_treadle_4, herringbone_thread)"
   ]
  },
  {
   "attachments": {},
   "cell_type": "markdown",
   "metadata": {},
   "source": [
    "# Defining tie-up\n",
    "\n",
    "The tie-up will be represented as an array of arrays.\n",
    "There is one inner array for each harness, *ordered from bottom to top* (so the array at index 0 is actually the bottom one in the schematic diagram).\n",
    "Each inner array contains one element per treadle, ordered from left to right (i,e., each column of the outer array represents one treadle).\n",
    "Each element in the inner array is either a 0 or 1; 0 represents that the given treadle is not tied up to the given harness (typically shown as white on a tie-up diagram), and 1 represents that the given treadle is ttied up to the given harness (typically shown as black).\n",
    "\n",
    "Thus, the tie-up for plain weave might be represented as:\n",
    "\n",
    "```\n",
    "[[1, 0],\n",
    " [0, 1]\n",
    "```\n",
    "\n",
    "What this looks like in a typical weaving draft (remember that the bottom row of the diagram is the zeroth element of the outer array):"
   ]
  },
  {
   "cell_type": "code",
   "execution_count": 17,
   "metadata": {},
   "outputs": [
    {
     "data": {
      "image/png": "[encoded data removed]",
      "text/plain": [
       "<Figure size 432x288 with 1 Axes>"
      ]
     },
     "metadata": {
      "needs_background": "light"
     },
     "output_type": "display_data"
    }
   ],
   "source": [
    "pw_tieup = np.array([[1, 0], [0, 1]])\n",
    "display_tieup(pw_tieup)"
   ]
  },
  {
   "attachments": {},
   "cell_type": "markdown",
   "metadata": {},
   "source": [
    "Tie-up for 2x2 twill:\n",
    "\n",
    "```\n",
    "[[1, 0, 0, 1],\n",
    " [1, 1, 0, 0],\n",
    " [0, 1, 1, 0],\n",
    " [0, 0, 1, 1]]\n",
    "```\n",
    "\n",
    "Here it becomes clearer that the zeroth index of the outer array (i.e., first row of this array) is actually the _bottom_ row of the tie-up diagram."
   ]
  },
  {
   "cell_type": "code",
   "execution_count": 18,
   "metadata": {},
   "outputs": [
    {
     "data": {
      "image/png": "[encoded data removed]",
      "text/plain": [
       "<Figure size 432x288 with 1 Axes>"
      ]
     },
     "metadata": {
      "needs_background": "light"
     },
     "output_type": "display_data"
    }
   ],
   "source": [
    "twill2x2_tieup = np.array([[1, 0, 0, 1], [1, 1, 0, 0], [0, 1, 1, 0], [0, 0, 1, 1]])\n",
    "display_tieup(twill2x2_tieup)"
   ]
  },
  {
   "attachments": {},
   "cell_type": "markdown",
   "metadata": {},
   "source": [
    "# Defining treadling\n",
    "\n",
    "The treadling will be represented as an array of arrays.\n",
    "Each inner array represents a weft row, ordered from top to bottom.\n",
    "Each inner array contains which treadles are pressed down on that row.\n",
    "\n",
    "Plain weave treadling of 6 rows:\n",
    "\n",
    "```\n",
    "[[1],\n",
    " [0],\n",
    " [1],\n",
    " [0],\n",
    " [1],\n",
    " [0]]\n",
    "```\n",
    "\n",
    "In a typical weaving draft:\n"
   ]
  },
  {
   "cell_type": "code",
   "execution_count": 19,
   "metadata": {},
   "outputs": [
    {
     "data": {
      "image/png": "[encoded data removed]",
      "text/plain": [
       "<Figure size 432x288 with 1 Axes>"
      ]
     },
     "metadata": {
      "needs_background": "light"
     },
     "output_type": "display_data"
    }
   ],
   "source": [
    "pw_treadle = np.array([[1], [0], [1], [0], [1], [0]])\n",
    "display_treadling(pw_treadle)"
   ]
  },
  {
   "attachments": {},
   "cell_type": "markdown",
   "metadata": {},
   "source": [
    "2x2 twill treadling with 12 rows:\n",
    "\n",
    "```\n",
    "[[0],\n",
    " [1],\n",
    " [2],\n",
    " [3],\n",
    " [0],\n",
    " [1],\n",
    " [2],\n",
    " [3],\n",
    " [0],\n",
    " [1],\n",
    " [2],\n",
    " [3]]\n",
    "```"
   ]
  },
  {
   "cell_type": "code",
   "execution_count": 20,
   "metadata": {},
   "outputs": [
    {
     "data": {
      "image/png": "[encoded data removed]",
      "text/plain": [
       "<Figure size 432x288 with 1 Axes>"
      ]
     },
     "metadata": {
      "needs_background": "light"
     },
     "output_type": "display_data"
    }
   ],
   "source": [
    "twill2x2_treadle = np.array([[0], [1], [2], [3], [0], [1], [2], [3], [0], [1], [2], [3]])\n",
    "display_treadling(twill2x2_treadle)"
   ]
  },
  {
   "attachments": {},
   "cell_type": "markdown",
   "metadata": {},
   "source": [
    "The same 2x2 twill treadling, but with the opposite treadles pushed down (to show that the code can handle multiple treadles per row):\n",
    "\n",
    "```\n",
    "[[1, 2, 3],\n",
    " [0, 2, 3],\n",
    " [0, 1, 3],\n",
    " [0, 1, 2],\n",
    " [1, 2, 3],\n",
    " [0, 2, 3],\n",
    " [0, 1, 3],\n",
    " [0, 1, 2],\n",
    " [1, 2, 3],\n",
    " [0, 2, 3],\n",
    " [0, 1, 3],\n",
    " [0, 1, 2]]\n",
    "```"
   ]
  },
  {
   "cell_type": "code",
   "execution_count": 21,
   "metadata": {},
   "outputs": [
    {
     "data": {
      "image/png": "[encoded data removed]",
      "text/plain": [
       "<Figure size 432x288 with 1 Axes>"
      ]
     },
     "metadata": {
      "needs_background": "light"
     },
     "output_type": "display_data"
    }
   ],
   "source": [
    "twill2x2_treadle_opp = np.array([[1, 2, 3], [0, 2, 3], [0, 1, 3], [0, 1, 2], [1, 2, 3], [0, 2, 3], [0, 1, 3], [0, 1, 2], [1, 2, 3], [0, 2, 3], [0, 1, 3], [0, 1, 2]])\n",
    "display_treadling(twill2x2_treadle_opp)"
   ]
  },
  {
   "attachments": {},
   "cell_type": "markdown",
   "metadata": {},
   "source": [
    "# Defining the threading\n",
    "\n",
    "The third and final piece of information required for generating the draw-down is the threading.\n",
    "Since each warp thread (i.e., each _end_) can only go through one harness, the threading will be encoded as a one-dimensional array containing at each index the harness that the thread of that index goes through, from left to right.\n",
    "\n",
    "Plain weave threading with 8 ends:\n",
    "\n",
    "```\n",
    "[0, 1, 0, 1, 0, 1, 0, 1]\n",
    "```\n",
    "\n",
    "In a typical weaving draft:"
   ]
  },
  {
   "cell_type": "code",
   "execution_count": 22,
   "metadata": {},
   "outputs": [
    {
     "data": {
      "image/png": "[encoded data removed]",
      "text/plain": [
       "<Figure size 432x288 with 1 Axes>"
      ]
     },
     "metadata": {
      "needs_background": "light"
     },
     "output_type": "display_data"
    }
   ],
   "source": [
    "pw_thread = np.array([0, 1, 0, 1, 0, 1, 0, 1])\n",
    "display_threading(pw_thread)"
   ]
  },
  {
   "attachments": {},
   "cell_type": "markdown",
   "metadata": {},
   "source": [
    "2x2 twill threading with 16 ends:\n",
    "\n",
    "```\n",
    "[0, 1, 2, 3, 0, 1, 2, 3, 0, 1, 2, 3, 0, 1, 2, 3]\n",
    "```\n",
    "\n",
    "In a typical weaving draft:"
   ]
  },
  {
   "cell_type": "code",
   "execution_count": 23,
   "metadata": {},
   "outputs": [
    {
     "data": {
      "image/png": "[encoded data removed]",
      "text/plain": [
       "<Figure size 432x288 with 1 Axes>"
      ]
     },
     "metadata": {
      "needs_background": "light"
     },
     "output_type": "display_data"
    }
   ],
   "source": [
    "twill2x2_thread = np.array([0, 1, 2, 3, 0, 1, 2, 3, 0, 1, 2, 3, 0, 1, 2, 3])\n",
    "display_threading(twill2x2_thread)"
   ]
  },
  {
   "attachments": {},
   "cell_type": "markdown",
   "metadata": {},
   "source": [
    "# The fabric draw-down\n",
    "\n",
    "The fabric is generated as a function of the tie-up, treadling, and threading.\n",
    "\n",
    "- Generate a zero array of shape `(n_weft, n_warp)` where `n_weft` is the number of elements in the treadling specification, and `n_warp` the number of elements in the threading specification.\n",
    "- For `row_idx` of outer array:\n",
    "- For `end_idx` of inner array:\n",
    "- get treadling at `row_idx` (array of ints) and threading at `end_idx` (int)\n",
    "- get the int of the threading (i.e. the harness), and look at what treadle(s) that harness is tied to\n",
    "- check if any of those treadles are activated (i.e., in the current treadling). if they are, then replace the value in the current cell `(row_idx, end_idx)` with 1."
   ]
  },
  {
   "attachments": {},
   "cell_type": "markdown",
   "metadata": {},
   "source": [
    "## Plain weave"
   ]
  },
  {
   "cell_type": "code",
   "execution_count": 24,
   "metadata": {},
   "outputs": [
    {
     "data": {
      "image/png": "[encoded data removed]",
      "text/plain": [
       "<Figure size 432x288 with 1 Axes>"
      ]
     },
     "metadata": {
      "needs_background": "light"
     },
     "output_type": "display_data"
    }
   ],
   "source": [
    "pw_fabric = gen_fabric(pw_tieup, pw_treadle, pw_thread) \n",
    "display_fabric(pw_fabric)"
   ]
  },
  {
   "attachments": {},
   "cell_type": "markdown",
   "metadata": {},
   "source": [
    "## 2x2 twill\n",
    "\n",
    "First up, straight threading."
   ]
  },
  {
   "cell_type": "code",
   "execution_count": 25,
   "metadata": {},
   "outputs": [
    {
     "data": {
      "image/png": "[encoded data removed]",
      "text/plain": [
       "<Figure size 432x288 with 1 Axes>"
      ]
     },
     "metadata": {
      "needs_background": "light"
     },
     "output_type": "display_data"
    }
   ],
   "source": [
    "twill2x2_fabric = gen_fabric(twill2x2_tieup, twill2x2_treadle, twill2x2_thread) \n",
    "display_fabric(twill2x2_fabric)"
   ]
  },
  {
   "attachments": {},
   "cell_type": "markdown",
   "metadata": {},
   "source": [
    "### Herringbone\n",
    "\n",
    "All that changes between the 2x2 twill above and herringbone is the threading."
   ]
  },
  {
   "cell_type": "code",
   "execution_count": 26,
   "metadata": {},
   "outputs": [
    {
     "data": {
      "image/png": "[encoded data removed]",
      "text/plain": [
       "<Figure size 432x288 with 1 Axes>"
      ]
     },
     "metadata": {
      "needs_background": "light"
     },
     "output_type": "display_data"
    }
   ],
   "source": [
    "herringbone_thread = np.array([0, 1, 2, 3]*2 + [1, 0, 3, 2]*2 + [0, 1, 2, 3]*2 + [1, 0, 3, 2]*2)\n",
    "\n",
    "# Display threading\n",
    "display_threading(herringbone_thread)"
   ]
  },
  {
   "cell_type": "code",
   "execution_count": 27,
   "metadata": {},
   "outputs": [
    {
     "data": {
      "image/png": "[encoded data removed]",
      "text/plain": [
       "<Figure size 432x288 with 1 Axes>"
      ]
     },
     "metadata": {
      "needs_background": "light"
     },
     "output_type": "display_data"
    }
   ],
   "source": [
    "twill2x2_fabric = gen_fabric(twill2x2_tieup, twill2x2_treadle, herringbone_thread) \n",
    "display_fabric(twill2x2_fabric)"
   ]
  },
  {
   "attachments": {},
   "cell_type": "markdown",
   "metadata": {},
   "source": [
    "# 3x1 twill\n",
    "\n",
    "Straight threading and treadling"
   ]
  },
  {
   "cell_type": "code",
   "execution_count": 28,
   "metadata": {},
   "outputs": [
    {
     "data": {
      "image/png": "[encoded data removed]",
      "text/plain": [
       "<Figure size 432x288 with 1 Axes>"
      ]
     },
     "metadata": {
      "needs_background": "light"
     },
     "output_type": "display_data"
    }
   ],
   "source": [
    "twill3x1_tieup = np.array([[0,1,1,1], [1,0,1,1], [1,1,0,1], [1,1,1,0]])\n",
    "\n",
    "display_tieup(twill3x1_tieup)"
   ]
  },
  {
   "cell_type": "code",
   "execution_count": 29,
   "metadata": {},
   "outputs": [
    {
     "data": {
      "image/png": "[encoded data removed]",
      "text/plain": [
       "<Figure size 432x288 with 1 Axes>"
      ]
     },
     "metadata": {
      "needs_background": "light"
     },
     "output_type": "display_data"
    }
   ],
   "source": [
    "twill3x1_fabric = gen_fabric(twill3x1_tieup, twill2x2_treadle, twill2x2_thread)\n",
    "display_fabric(twill3x1_fabric)"
   ]
  },
  {
   "attachments": {},
   "cell_type": "markdown",
   "metadata": {},
   "source": [
    "Zigzag threading, straight treadling"
   ]
  },
  {
   "cell_type": "code",
   "execution_count": 30,
   "metadata": {},
   "outputs": [
    {
     "data": {
      "image/png": "[encoded data removed]",
      "text/plain": [
       "<Figure size 432x288 with 1 Axes>"
      ]
     },
     "metadata": {
      "needs_background": "light"
     },
     "output_type": "display_data"
    }
   ],
   "source": [
    "zigzag_thread = np.array([3,2,1,0]*2 + [3] + [0,1,2,3]*2 + [2,1,0] + [3,2,1,0])\n",
    "\n",
    "display_threading(zigzag_thread)"
   ]
  },
  {
   "cell_type": "code",
   "execution_count": 31,
   "metadata": {},
   "outputs": [
    {
     "data": {
      "image/png": "[encoded data removed]",
      "text/plain": [
       "<Figure size 432x288 with 1 Axes>"
      ]
     },
     "metadata": {
      "needs_background": "light"
     },
     "output_type": "display_data"
    }
   ],
   "source": [
    "twill3x1_fabric = gen_fabric(twill3x1_tieup, twill2x2_treadle, zigzag_thread)\n",
    "display_fabric(twill3x1_fabric)"
   ]
  },
  {
   "attachments": {},
   "cell_type": "markdown",
   "metadata": {},
   "source": [
    "Zigzag threading and treadling a la https://www.pinterest.com/pin/351562314662796215/ \n"
   ]
  },
  {
   "cell_type": "code",
   "execution_count": 32,
   "metadata": {},
   "outputs": [
    {
     "data": {
      "image/png": "[encoded data removed]",
      "text/plain": [
       "<Figure size 432x288 with 1 Axes>"
      ]
     },
     "metadata": {
      "needs_background": "light"
     },
     "output_type": "display_data"
    }
   ],
   "source": [
    "zigzag_treadle = np.array([[0], [1], [2], [3], [ 0], [1], [2], [3], [ 2], [1], [0], [ 3], [2], [1], [ 0], [1], [2], [3], [ 0], [1], [2], [3], [ 2], [1], [0], [ 3], [2], [1]])\n",
    "display_treadling(zigzag_treadle)"
   ]
  },
  {
   "cell_type": "code",
   "execution_count": 33,
   "metadata": {},
   "outputs": [
    {
     "data": {
      "image/png": "[encoded data removed]",
      "text/plain": [
       "<Figure size 432x288 with 1 Axes>"
      ]
     },
     "metadata": {
      "needs_background": "light"
     },
     "output_type": "display_data"
    }
   ],
   "source": [
    "twill3x1_fabric = gen_fabric(twill3x1_tieup, zigzag_treadle, zigzag_thread)\n",
    "display_fabric(twill3x1_fabric)"
   ]
  },
  {
   "attachments": {},
   "cell_type": "markdown",
   "metadata": {},
   "source": [
    "# Display full weaving draft\n",
    "\n",
    "We'll need to combine arrays with threading and tie-up on top, and fabric drawdown and treadling below.\n",
    "Separated by `n` white pixels."
   ]
  },
  {
   "cell_type": "code",
   "execution_count": 34,
   "metadata": {},
   "outputs": [
    {
     "data": {
      "image/png": "[encoded data removed]",
      "text/plain": [
       "<Figure size 432x288 with 1 Axes>"
      ]
     },
     "metadata": {
      "needs_background": "light"
     },
     "output_type": "display_data"
    }
   ],
   "source": [
    "display_full_draft(pw_tieup, pw_treadle, pw_thread, overlay_grid=False, n_pixel_sep=1)"
   ]
  },
  {
   "cell_type": "code",
   "execution_count": 35,
   "metadata": {},
   "outputs": [
    {
     "data": {
      "image/png": "[encoded data removed]",
      "text/plain": [
       "<Figure size 432x288 with 1 Axes>"
      ]
     },
     "metadata": {
      "needs_background": "light"
     },
     "output_type": "display_data"
    }
   ],
   "source": [
    "display_full_draft(twill2x2_tieup, twill2x2_treadle, twill2x2_thread, overlay_grid=True)"
   ]
  },
  {
   "cell_type": "code",
   "execution_count": 36,
   "metadata": {},
   "outputs": [
    {
     "data": {
      "image/png": "[encoded data removed]",
      "text/plain": [
       "<Figure size 432x288 with 1 Axes>"
      ]
     },
     "metadata": {
      "needs_background": "light"
     },
     "output_type": "display_data"
    }
   ],
   "source": [
    "display_full_draft(twill3x1_tieup, zigzag_treadle, zigzag_thread, overlay_grid=False)"
   ]
  },
  {
   "cell_type": "code",
   "execution_count": 37,
   "metadata": {},
   "outputs": [
    {
     "data": {
      "image/png": "[encoded data removed]",
      "text/plain": [
       "<Figure size 432x288 with 1 Axes>"
      ]
     },
     "metadata": {
      "needs_background": "light"
     },
     "output_type": "display_data"
    }
   ],
   "source": [
    "# display_full_draft(twill3x1_tieup, zigzag_treadle, herringbone_thread, overlay_grid=False)\n",
    "display_full_draft(twill3x1_tieup, np.concatenate([twill2x2_treadle]*3), herringbone_thread, filename='sample_drafts/3x1_herringbone.pdf')#, overlay_grid=False)"
   ]
  },
  {
   "cell_type": "code",
   "execution_count": 38,
   "metadata": {},
   "outputs": [
    {
     "data": {
      "image/png": "[encoded data removed]",
      "text/plain": [
       "<Figure size 432x288 with 1 Axes>"
      ]
     },
     "metadata": {
      "needs_background": "light"
     },
     "output_type": "display_data"
    }
   ],
   "source": [
    "display_full_draft(twill2x2_tieup, zigzag_treadle, herringbone_thread, overlay_grid=False)\n",
    "display_full_draft(twill2x2_tieup, np.concatenate([twill2x2_treadle]*2), herringbone_thread, overlay_grid=False)"
   ]
  },
  {
   "attachments": {},
   "cell_type": "markdown",
   "metadata": {},
   "source": [
    "Encoding a new draft from scratch: hearts https://www.pinterest.com/pin/782289397795848743 "
   ]
  },
  {
   "cell_type": "code",
   "execution_count": 39,
   "metadata": {},
   "outputs": [
    {
     "data": {
      "image/png": "[encoded data removed]",
      "text/plain": [
       "<Figure size 432x288 with 1 Axes>"
      ]
     },
     "metadata": {
      "needs_background": "light"
     },
     "output_type": "display_data"
    }
   ],
   "source": [
    "hearts_tieup = np.array([\n",
    "    [1,1,0,1,1,0],\n",
    "    [1,0,0,0,1,1],\n",
    "    [1,1,0,0,0,1],\n",
    "    [0,1,1,1,0,0]])\n",
    "\n",
    "hearts_treadle_rep = np.array([\n",
    "    [0],\n",
    "    [1],\n",
    "    [2],\n",
    "    [3],\n",
    "    [4],\n",
    "    [5],\n",
    "    [1],\n",
    "    [2]])\n",
    "\n",
    "hearts_thread_rep = np.array([3, 1, 3, 0, 1, 2, 3, 2, 1, 0])\n",
    "hearts_thread_sfx = np.array([3, 1, 3])\n",
    "\n",
    "display_full_draft(hearts_tieup, \n",
    "                    np.concatenate([hearts_treadle_rep]*5), \n",
    "                    np.concatenate([hearts_thread_rep]*5 + [hearts_thread_sfx]), \n",
    "                    overlay_grid=False)"
   ]
  },
  {
   "cell_type": "code",
   "execution_count": 40,
   "metadata": {},
   "outputs": [
    {
     "data": {
      "image/png": "[encoded data removed]",
      "text/plain": [
       "<Figure size 432x288 with 1 Axes>"
      ]
     },
     "metadata": {
      "needs_background": "light"
     },
     "output_type": "display_data"
    }
   ],
   "source": [
    "display_full_draft(hearts_tieup, \n",
    "                    np.concatenate([hearts_treadle_rep]*5), \n",
    "                    np.concatenate([hearts_thread_rep]*5 + [hearts_thread_sfx]), \n",
    "                    overlay_grid=True)"
   ]
  }
 ],
 "metadata": {
  "kernelspec": {
   "display_name": "base",
   "language": "python",
   "name": "python3"
  },
  "language_info": {
   "codemirror_mode": {
    "name": "ipython",
    "version": 3
   },
   "file_extension": ".py",
   "mimetype": "text/x-python",
   "name": "python",
   "nbconvert_exporter": "python",
   "pygments_lexer": "ipython3",
   "version": "3.8.8"
  },
  "orig_nbformat": 4,
  "vscode": {
   "interpreter": {
    "hash": "2254d95886abd510fdbe4740a73329c02480b002321aba449e3a8ac32ef99413"
   }
  }
 },
 "nbformat": 4,
 "nbformat_minor": 2
}
