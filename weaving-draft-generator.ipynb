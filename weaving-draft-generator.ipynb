{
 "cells": [
  {
   "attachments": {},
   "cell_type": "markdown",
   "metadata": {},
   "source": [
    "# Code walkthrough\n",
    "\n",
    "Generates weaving draft from tie-up, threading, and treadling patterns provided as `numpy` arrays.\n",
    "\n",
    "Uses `skimage` to save image."
   ]
  },
  {
   "cell_type": "code",
   "execution_count": 61,
   "metadata": {},
   "outputs": [
    {
     "data": {
      "text/plain": [
       "<Figure size 432x288 with 0 Axes>"
      ]
     },
     "metadata": {},
     "output_type": "display_data"
    }
   ],
   "source": [
    "import pandas as pd\n",
    "import numpy as np\n",
    "from matplotlib import pyplot as plt\n",
    "from skimage import data, io, util\n",
    "\n",
    "# Default greyscale plots\n",
    "plt.gray()\n",
    "\n",
    "\n",
    "# Some helpful functions for display\n",
    "\n",
    "def display(img_array):\n",
    "    \"\"\"\n",
    "    Uses matplotlib to display image.\n",
    "\n",
    "    Arg:\n",
    "        img_array: np array representing image\n",
    "    Returns:\n",
    "        Nothing, displays image.\n",
    "    \"\"\"\n",
    "    plt.imshow(img_array)\n",
    "    plt.show()\n",
    "\n",
    "\n",
    "def inv(img_array):\n",
    "    \"\"\" \n",
    "    We encode a white cell as 0 and a black cell as 1, but by default, \n",
    "    skimage displays 0 as black and 1 as white. This functions inverts those values for display.\n",
    "\n",
    "    Arg:\n",
    "        img_array: np array representing image \n",
    "    Returns:\n",
    "        np array of the same dimensions as img_array with colours inverted\n",
    "    \"\"\"\n",
    "    return util.invert(img_array)\n",
    "\n",
    "\n",
    "def gen_bool_array(treadle_array):\n",
    "    \"\"\"\n",
    "    Arg:\n",
    "        treadle_array: array of arrays; inner arrays represent activated treadles in each row\n",
    "    Returns:\n",
    "        Array of arrays; for every weft row, one inner array, each containing 0 (not active)/1 (active) for every treadle.\n",
    "    \"\"\"\n",
    "    # Find max value and add 1; this is how many treadles there are\n",
    "    n_treadles = treadle_array.max() + 1\n",
    "\n",
    "    # Init list that will contain the 0/1 values for each row.\n",
    "    bool_treadle = []\n",
    "\n",
    "    # Iterate through treadle_array.\n",
    "    for curr_treadles in treadle_array:\n",
    "        \n",
    "        # Create zero array of length n_treadles.\n",
    "        bool_row = np.zeros(n_treadles)\n",
    "\n",
    "        # Replace the zeroes with ones at indices given in curr_treadles and append to accumulator list.\n",
    "        np.put(bool_row, curr_treadles, 1)\n",
    "        bool_treadle.append(bool_row)\n",
    "    \n",
    "    return np.array(bool_treadle)\n"
   ]
  },
  {
   "attachments": {},
   "cell_type": "markdown",
   "metadata": {},
   "source": [
    "# Defining tie-up\n",
    "\n",
    "The tie-up will be represented as an array of arrays.\n",
    "There is one inner array for each harness.\n",
    "Each inner array contains one element per treadle, ordered from left to right (i,e., each column of the outer array represents one treadle).\n",
    "Each element in the inner array is either a 0 or 1; 0 represents that the given treadle is not tied up to the given harness (typically shown as white on a tie-up diagram), and 1 represents that the given treadle is ttied up to the given harness (typically shown as black).\n",
    "\n",
    "Thus, the tie-up for plain weave is represented as:\n",
    "\n",
    "```\n",
    "[[0, 1],\n",
    " [1, 0]]\n",
    "```\n",
    "\n",
    "What this looks like in a typical weaving draft:"
   ]
  },
  {
   "cell_type": "code",
   "execution_count": 35,
   "metadata": {},
   "outputs": [
    {
     "data": {
      "image/png": "[encoded data removed]",
      "text/plain": [
       "<Figure size 432x288 with 1 Axes>"
      ]
     },
     "metadata": {
      "needs_background": "light"
     },
     "output_type": "display_data"
    }
   ],
   "source": [
    "pw_tieup = np.array([[0, 1], [1, 0]])\n",
    "display(inv(pw_tieup))"
   ]
  },
  {
   "attachments": {},
   "cell_type": "markdown",
   "metadata": {},
   "source": [
    "\n",
    "Tie-up for 2x2 twill:\n",
    "\n",
    "```\n",
    "[[0, 0, 1, 1],\n",
    " [0, 1, 1, 0],\n",
    " [1, 1, 0, 0],\n",
    " [1, 0, 0, 1]]\n",
    "```"
   ]
  },
  {
   "cell_type": "code",
   "execution_count": 34,
   "metadata": {},
   "outputs": [
    {
     "data": {
      "image/png": "[encoded data removed]",
      "text/plain": [
       "<Figure size 432x288 with 1 Axes>"
      ]
     },
     "metadata": {
      "needs_background": "light"
     },
     "output_type": "display_data"
    }
   ],
   "source": [
    "twill2x2_tieup = np.array([[0, 0, 1, 1], [0, 1, 1, 0], [1, 1, 0, 0], [1, 0, 0, 1]])\n",
    "display(inv(twill2x2_tieup))"
   ]
  },
  {
   "attachments": {},
   "cell_type": "markdown",
   "metadata": {},
   "source": [
    "# Defining treadling\n",
    "\n",
    "The treadling will be represented as an array of arrays.\n",
    "Each inner array represents a weft row, ordered from top to bottom.\n",
    "Each inner array contains which treadles are pressed down on that row.\n",
    "\n",
    "Plain weave treadling of 6 rows:\n",
    "\n",
    "```\n",
    "[[1],\n",
    " [0],\n",
    " [1],\n",
    " [0],\n",
    " [1],\n",
    " [0]]\n",
    "```\n",
    "\n",
    "In a typical weaving draft:\n"
   ]
  },
  {
   "cell_type": "code",
   "execution_count": 62,
   "metadata": {},
   "outputs": [
    {
     "data": {
      "image/png": "[encoded data removed]",
      "text/plain": [
       "<Figure size 432x288 with 1 Axes>"
      ]
     },
     "metadata": {
      "needs_background": "light"
     },
     "output_type": "display_data"
    }
   ],
   "source": [
    "pw_treadle = np.array([[1], [0], [1], [0], [1], [0]])\n",
    "pw_treadle_bool = gen_bool_array(pw_treadle)\n",
    "display(inv(pw_treadle_bool))"
   ]
  },
  {
   "attachments": {},
   "cell_type": "markdown",
   "metadata": {},
   "source": [
    "2x2 twill treadling with 12 rows:\n",
    "\n",
    "```\n",
    "[[0],\n",
    " [1],\n",
    " [2],\n",
    " [3],\n",
    " [0],\n",
    " [1],\n",
    " [2],\n",
    " [3],\n",
    " [0],\n",
    " [1],\n",
    " [2],\n",
    " [3]]\n",
    "```"
   ]
  },
  {
   "cell_type": "code",
   "execution_count": 63,
   "metadata": {},
   "outputs": [
    {
     "data": {
      "image/png": "[encoded data removed]",
      "text/plain": [
       "<Figure size 432x288 with 1 Axes>"
      ]
     },
     "metadata": {
      "needs_background": "light"
     },
     "output_type": "display_data"
    }
   ],
   "source": [
    "twill2x2_treadle = np.array([[0], [1], [2], [3], [0], [1], [2], [3], [0], [1], [2], [3]])\n",
    "twill2x2_treadle_bool = gen_bool_array(twill2x2_treadle)\n",
    "display(inv(twill2x2_treadle_bool))"
   ]
  },
  {
   "attachments": {},
   "cell_type": "markdown",
   "metadata": {},
   "source": [
    "The same 2x2 twill treadling, but with the opposite treadles pushed down (to show that the code can handle multiple treadles per row):\n",
    "\n",
    "```\n",
    "[[1, 2, 3],\n",
    " [0, 2, 3],\n",
    " [0, 1, 3],\n",
    " [0, 1, 2],\n",
    " [1, 2, 3],\n",
    " [0, 2, 3],\n",
    " [0, 1, 3],\n",
    " [0, 1, 2],\n",
    " [1, 2, 3],\n",
    " [0, 2, 3],\n",
    " [0, 1, 3],\n",
    " [0, 1, 2]]\n",
    "```"
   ]
  },
  {
   "cell_type": "code",
   "execution_count": 64,
   "metadata": {},
   "outputs": [
    {
     "data": {
      "image/png": "[encoded data removed]",
      "text/plain": [
       "<Figure size 432x288 with 1 Axes>"
      ]
     },
     "metadata": {
      "needs_background": "light"
     },
     "output_type": "display_data"
    }
   ],
   "source": [
    "twill2x2_treadle_opp = np.array([[1, 2, 3], [0, 2, 3], [0, 1, 3], [0, 1, 2], [1, 2, 3], [0, 2, 3], [0, 1, 3], [0, 1, 2], [1, 2, 3], [0, 2, 3], [0, 1, 3], [0, 1, 2]])\n",
    "twill2x2_treadle_opp_bool = gen_bool_array(twill2x2_treadle_opp)\n",
    "display(inv(twill2x2_treadle_opp_bool))"
   ]
  },
  {
   "attachments": {},
   "cell_type": "markdown",
   "metadata": {},
   "source": [
    "# Defining the threading\n",
    "\n",
    "The third and final piece of information required for generating the draw-down is the threading.\n",
    "Since each warp thread (i.e., each _end_) can only go through one harness, the threading will be encoded as a one-dimensional array containing at each index the harness that the thread of that index goes through, from left to right.\n",
    "\n",
    "Plain weave threading with 8 ends:\n",
    "\n",
    "```\n",
    "[0, 1, 0, 1, 0, 1, 0, 1]\n",
    "```\n",
    "\n",
    "In a typical weaving draft:"
   ]
  },
  {
   "cell_type": "code",
   "execution_count": 76,
   "metadata": {},
   "outputs": [
    {
     "data": {
      "image/png": "[encoded data removed]",
      "text/plain": [
       "<Figure size 432x288 with 1 Axes>"
      ]
     },
     "metadata": {
      "needs_background": "light"
     },
     "output_type": "display_data"
    }
   ],
   "source": [
    "pw_thread = np.array([0, 1, 0, 1, 0, 1, 0, 1])\n",
    "pw_thread_bool = np.rot90(gen_bool_array(pw_thread))\n",
    "display(inv(pw_thread_bool))"
   ]
  },
  {
   "attachments": {},
   "cell_type": "markdown",
   "metadata": {},
   "source": [
    "2x2 twill threading with 16 ends:\n",
    "\n",
    "```\n",
    "[0, 1, 2, 3, 0, 1, 2, 3, 0, 1, 2, 3, 0, 1, 2, 3]\n",
    "```\n",
    "\n",
    "We can use the same function for this as for generating the bool array for the treadling, as long a we rotate it 90 degrees to get the threading.\n",
    "So, in a typical weaving draft:"
   ]
  },
  {
   "cell_type": "code",
   "execution_count": 77,
   "metadata": {},
   "outputs": [
    {
     "data": {
      "image/png": "[encoded data removed]",
      "text/plain": [
       "<Figure size 432x288 with 1 Axes>"
      ]
     },
     "metadata": {
      "needs_background": "light"
     },
     "output_type": "display_data"
    }
   ],
   "source": [
    "twill2x2_thread = np.array([0, 1, 2, 3, 0, 1, 2, 3, 0, 1, 2, 3, 0, 1, 2, 3])\n",
    "twill2x2_thread_bool = np.rot90(gen_bool_array(twill2x2_thread))\n",
    "display(inv(twill2x2_thread_bool))"
   ]
  },
  {
   "attachments": {},
   "cell_type": "markdown",
   "metadata": {},
   "source": [
    "# The draw-down\n",
    "\n",
    "The fabric is generated as a function of the tie-up, treadling, and threading."
   ]
  },
  {
   "cell_type": "code",
   "execution_count": null,
   "metadata": {},
   "outputs": [],
   "source": []
  }
 ],
 "metadata": {
  "kernelspec": {
   "display_name": "base",
   "language": "python",
   "name": "python3"
  },
  "language_info": {
   "codemirror_mode": {
    "name": "ipython",
    "version": 3
   },
   "file_extension": ".py",
   "mimetype": "text/x-python",
   "name": "python",
   "nbconvert_exporter": "python",
   "pygments_lexer": "ipython3",
   "version": "3.8.8"
  },
  "orig_nbformat": 4,
  "vscode": {
   "interpreter": {
    "hash": "2254d95886abd510fdbe4740a73329c02480b002321aba449e3a8ac32ef99413"
   }
  }
 },
 "nbformat": 4,
 "nbformat_minor": 2
}
