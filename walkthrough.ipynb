{
 "cells": [
  {
   "attachments": {},
   "cell_type": "markdown",
   "metadata": {},
   "source": [
    "# Walkthrough of weaving draft generator code\n",
    "\n",
    "**(Plus a library of a few common drafts!)**\n",
    "\n",
    "Elizabeth Pankratz, 2022"
   ]
  },
  {
   "cell_type": "code",
   "execution_count": 47,
   "metadata": {},
   "outputs": [],
   "source": [
    "import draftmaker as dm\n",
    "import numpy as np"
   ]
  },
  {
   "attachments": {},
   "cell_type": "markdown",
   "metadata": {},
   "source": [
    "## Anatomy of a weaving draft\n",
    "\n",
    "A typical weaving draft looks something like this:\n",
    "\n",
    "<img src=\"walkthrough_imgs/2x2twill_herringbone.png\">"
   ]
  },
  {
   "attachments": {},
   "cell_type": "markdown",
   "metadata": {},
   "source": [
    "It has four components.\n",
    "\n",
    "1) **The tie-up (top right):** how each of the loom's treadles are tied to each of its harnesses.\n",
    "Each row represents one harness, and each column represents one treadle. \n",
    "A black cell means that that column's treadle is tied up to that row's harness.\n",
    "One treadle can be tied to many harnesses, and one harness can be attached to multiple treadles.\n",
    "\n",
    "2) **The treadling (bottom right):** the order in which the treadles are pressed down.\n",
    "Each row represents one weft pick, i.e., one row of the woven fabric, and each column represents one treadle. \n",
    "A black cell means that for that weft pick, the given treadle is pressed down.\n",
    "Multiple treadles can be pressed down at once.\n",
    "\n",
    "3) **The threading (top left):** the harness that each warp end is threaded through. \n",
    "Each row represents one harness, and each column represents one warp end, i.e., one thread in the warp.\n",
    "A black cell means that the given warp end is threaded through the given harness.\n",
    "Each warp end can only be threaded through one harness.\n",
    "\n",
    "4) **The fabric drawdown (bottom left):** jointly determined by the tie-up, the treadling, and the threading.\n",
    "Each row represents one weft pick, and each column represents one warp end.\n",
    "A black cell means that for that intersection of warp and weft, the warp thread is on top.\n",
    "A white cell means that the weft thread is on top.\n",
    "\n",
    "For a very clear explanation and illustration of the role of each of these components, see [this page by Lauren Nishizaki](https://observablehq.com/@lemonnish/generate-a-weaving-draft#cell-158).\n",
    "\n",
    "This notebook will outline how each of the components in 1–3 are defined before showing how they come together to create the fabric in 4."
   ]
  },
  {
   "attachments": {},
   "cell_type": "markdown",
   "metadata": {},
   "source": [
    "### 1) The tie-up\n",
    "\n",
    "The tie-up is represented as an array of arrays.\n",
    "The outer array contains one array for each harness, *ordered from bottom to top*.\n",
    "In other words, the array at index 0 is the bottom row in the tie-up in the diagram above.\n",
    "Each inner array contains one Boolean value (0/1) per treadle, ordered from left to right.\n",
    "A 1 represents that the given treadle is tied up to the given harness (black on the tie-up diagram), and a 0 represents that the given treadle is not tied up to the given harness (white on the tie-up diagram).\n",
    "\n",
    "So, the tie-up for the 2x2 twill shown above would be represented as:\n",
    "\n",
    "```\n",
    "[[1, 0, 0, 1],\n",
    " [1, 1, 0, 0],\n",
    " [0, 1, 1, 0],\n",
    " [0, 0, 1, 1]]\n",
    "```\n",
    "\n",
    "Note that the zeroth index of the outer array is the bottom row of the following tie-up diagram:"
   ]
  },
  {
   "cell_type": "code",
   "execution_count": 48,
   "metadata": {},
   "outputs": [
    {
     "data": {
      "image/png": "[encoded data removed]",
      "text/plain": [
       "<Figure size 432x288 with 1 Axes>"
      ]
     },
     "metadata": {
      "needs_background": "light"
     },
     "output_type": "display_data"
    }
   ],
   "source": [
    "twill2x2_tieup = np.array([[1, 0, 0, 1], [1, 1, 0, 0], [0, 1, 1, 0], [0, 0, 1, 1]])\n",
    "dm.display_tieup(twill2x2_tieup)"
   ]
  },
  {
   "attachments": {},
   "cell_type": "markdown",
   "metadata": {},
   "source": [
    "### 2) The treadling\n",
    "\n",
    "The treadling is represented as an array of arrays.\n",
    "The outer array contains arrays for each weft row to be plotted, ordered from top to bottom.\n",
    "Each inner array contains integers >= 0 representing which treadle(s) are pressed down for the given row.\n",
    "The treadles are zero-indexed.\n",
    "\n",
    "The straight treadling shown in the example draft above would be represented as:\n",
    "\n",
    "```\n",
    "[[0],\n",
    " [1],\n",
    " [2],\n",
    " [3],\n",
    " [0],\n",
    " [1],\n",
    " [2],\n",
    " [3],\n",
    " [0],\n",
    " [1],\n",
    " [2],\n",
    " [3]]\n",
    "```\n",
    "\n",
    "This pattern can be encoded more succinctly by repeating the first four rows some number of times.\n",
    "Here's how it looks on its own:"
   ]
  },
  {
   "cell_type": "code",
   "execution_count": 49,
   "metadata": {},
   "outputs": [
    {
     "data": {
      "image/png": "[encoded data removed]",
      "text/plain": [
       "<Figure size 432x288 with 1 Axes>"
      ]
     },
     "metadata": {
      "needs_background": "light"
     },
     "output_type": "display_data"
    }
   ],
   "source": [
    "# The 4 in the variable name indicates that this treadling is over four treadles.\n",
    "straight_treadle_4 = np.array([[0], [1], [2], [3]] * 6)\n",
    "dm.display_treadling(straight_treadle_4)"
   ]
  },
  {
   "attachments": {},
   "cell_type": "markdown",
   "metadata": {},
   "source": [
    "### 3) The threading\n",
    "\n",
    "The third and final piece of information required for generating the fabric drawdown is the threading.\n",
    "The threading is represented as a one-dimensional array containing integers >= 0.\n",
    "Each integer reflects the harness that the given thread goes through (ordered from left to right).\n",
    "Like the treadles, the harnesses are zero-indexed.\n",
    "\n",
    "So, a straight threading (unlike the one in the example draft above—but we'll get there soon!) would be represented as:\n",
    "\n",
    "```\n",
    "[0, 1, 2, 3, 0, 1, 2, 3, 0, 1, 2, 3, 0, 1, 2, 3]\n",
    "```\n",
    "\n",
    "Again, we can generate the threading array more efficiently by repeating the four-end pattern some number of times."
   ]
  },
  {
   "cell_type": "code",
   "execution_count": 50,
   "metadata": {},
   "outputs": [
    {
     "data": {
      "image/png": "[encoded data removed]",
      "text/plain": [
       "<Figure size 432x288 with 1 Axes>"
      ]
     },
     "metadata": {
      "needs_background": "light"
     },
     "output_type": "display_data"
    }
   ],
   "source": [
    "# The 4 in the variable name indicates that this threading is over four harnesses.\n",
    "straight_thread_4 = np.array([0, 1, 2, 3] * 8)\n",
    "dm.display_threading(straight_thread_4)"
   ]
  },
  {
   "attachments": {},
   "cell_type": "markdown",
   "metadata": {},
   "source": [
    "### 4) The fabric drawdown\n",
    "\n",
    "The fabric is produced as a function of the tie-up, the treadling, and the threading."
   ]
  },
  {
   "cell_type": "code",
   "execution_count": 51,
   "metadata": {},
   "outputs": [
    {
     "data": {
      "image/png": "[encoded data removed]",
      "text/plain": [
       "<Figure size 432x288 with 1 Axes>"
      ]
     },
     "metadata": {
      "needs_background": "light"
     },
     "output_type": "display_data"
    }
   ],
   "source": [
    "twill2x2_fabric = dm.gen_fabric(twill2x2_tieup, straight_treadle_4, straight_thread_4)\n",
    "dm.display_fabric(twill2x2_fabric)"
   ]
  },
  {
   "attachments": {},
   "cell_type": "markdown",
   "metadata": {},
   "source": [
    "### Putting it all together: A full draft\n",
    "\n",
    "The function `dm.display_full_draft()` creates the traditionally-formatted weaving draft given a tie-up specification, a treadling specification, and a threading specification.\n",
    "\n",
    "This function also has three optional arguments:\n",
    "\n",
    "- `n_pixel_sep=` can be any integer >= 0, indicating how many cells of padding there should be between the four components of the draft.\n",
    "- `overlay_grid=` can be either `True` (default) or `False`, indicating whether the draft components should be displayed with a grid overtop. (The images above have no grid overlaid).\n",
    "- `pdf_filename=` can be any string ending in \".pdf\" that gives the location where the draft should be saved. If left unspecified, the default value `None` means that no plot will be saved. (PDF format is used because I find that images saved in rasterised format look less nice.)"
   ]
  },
  {
   "cell_type": "code",
   "execution_count": 52,
   "metadata": {},
   "outputs": [
    {
     "data": {
      "image/png": "[encoded data removed]",
      "text/plain": [
       "<Figure size 432x288 with 1 Axes>"
      ]
     },
     "metadata": {
      "needs_background": "light"
     },
     "output_type": "display_data"
    }
   ],
   "source": [
    "# Gridlines off\n",
    "dm.display_full_draft(twill2x2_tieup, straight_treadle_4, straight_thread_4, overlay_grid=False)"
   ]
  },
  {
   "cell_type": "code",
   "execution_count": 53,
   "metadata": {},
   "outputs": [
    {
     "data": {
      "image/png": "[encoded data removed]",
      "text/plain": [
       "<Figure size 432x288 with 1 Axes>"
      ]
     },
     "metadata": {
      "needs_background": "light"
     },
     "output_type": "display_data"
    }
   ],
   "source": [
    "# Turn gridlines on and save PDF to subdirectory\n",
    "dm.display_full_draft(twill2x2_tieup, straight_treadle_4, straight_thread_4, pdf_filename='sample_drafts/2x2twill_straight.pdf')"
   ]
  },
  {
   "cell_type": "code",
   "execution_count": 54,
   "metadata": {},
   "outputs": [
    {
     "data": {
      "image/png": "[encoded data removed]",
      "text/plain": [
       "<Figure size 432x288 with 1 Axes>"
      ]
     },
     "metadata": {
      "needs_background": "light"
     },
     "output_type": "display_data"
    },
    {
     "data": {
      "image/png": "[encoded data removed]",
      "text/plain": [
       "<Figure size 432x288 with 1 Axes>"
      ]
     },
     "metadata": {
      "needs_background": "light"
     },
     "output_type": "display_data"
    }
   ],
   "source": [
    "# Change the amounts of padding\n",
    "dm.display_full_draft(twill2x2_tieup, straight_treadle_4, straight_thread_4, n_pixel_sep=3, overlay_grid=False)\n",
    "dm.display_full_draft(twill2x2_tieup, straight_treadle_4, straight_thread_4, n_pixel_sep=10, overlay_grid=True)"
   ]
  },
  {
   "attachments": {},
   "cell_type": "markdown",
   "metadata": {},
   "source": [
    "## Switching out components to create new fabrics\n",
    "\n",
    "To generate the weaving draft shown at the beginning of this notebook, all we need to do is change from the straight threading to a herringbone threading.\n",
    "The 2x2 twill tie-up and straight treadling can stay the same.\n",
    "\n",
    "The herringbone threading looks like this:"
   ]
  },
  {
   "cell_type": "code",
   "execution_count": 55,
   "metadata": {},
   "outputs": [
    {
     "data": {
      "image/png": "[encoded data removed]",
      "text/plain": [
       "<Figure size 432x288 with 1 Axes>"
      ]
     },
     "metadata": {
      "needs_background": "light"
     },
     "output_type": "display_data"
    }
   ],
   "source": [
    "# Define one repeat as a list of integers\n",
    "herringbone_rep = [0, 1, 2, 3] * 2 + [1, 0, 3, 2] * 2\n",
    "# Concatenate that list with itself a few times to get the full threading\n",
    "herringbone_thread = np.array(np.concatenate([herringbone_rep] * 3))\n",
    "\n",
    "dm.display_threading(herringbone_thread)"
   ]
  },
  {
   "attachments": {},
   "cell_type": "markdown",
   "metadata": {},
   "source": [
    "And the resulting draft, using the same tie-up and treadling but the new herringbone threading, looks like this:"
   ]
  },
  {
   "cell_type": "code",
   "execution_count": 56,
   "metadata": {},
   "outputs": [
    {
     "data": {
      "image/png": "[encoded data removed]",
      "text/plain": [
       "<Figure size 432x288 with 1 Axes>"
      ]
     },
     "metadata": {
      "needs_background": "light"
     },
     "output_type": "display_data"
    }
   ],
   "source": [
    "dm.display_full_draft(twill2x2_tieup, straight_treadle_4, herringbone_thread)"
   ]
  },
  {
   "attachments": {},
   "cell_type": "markdown",
   "metadata": {},
   "source": [
    "## A library of a few other patterns I like"
   ]
  },
  {
   "attachments": {},
   "cell_type": "markdown",
   "metadata": {},
   "source": [
    "### Plain weave (a.k.a. tabby)\n",
    "\n",
    "Needs two harnesses, two treadles."
   ]
  },
  {
   "cell_type": "code",
   "execution_count": 57,
   "metadata": {},
   "outputs": [
    {
     "data": {
      "image/png": "[encoded data removed]",
      "text/plain": [
       "<Figure size 432x288 with 1 Axes>"
      ]
     },
     "metadata": {
      "needs_background": "light"
     },
     "output_type": "display_data"
    }
   ],
   "source": [
    "pw_tieup = np.array([[1, 0], [0, 1]])\n",
    "straight_treadle_2 = np.array([[1], [0]] * 8)\n",
    "straight_thread_2 = np.array([0, 1] * 10)\n",
    "dm.display_full_draft(pw_tieup, straight_treadle_2, straight_thread_2)\n",
    "    "
   ]
  },
  {
   "attachments": {},
   "cell_type": "markdown",
   "metadata": {},
   "source": [
    "### 2x2 twill interspersed with plain weave\n",
    "\n",
    "Needs four harnesses, six treadles.\n",
    "An example of mixing two different weave structures in the same draft."
   ]
  },
  {
   "cell_type": "code",
   "execution_count": 58,
   "metadata": {},
   "outputs": [
    {
     "data": {
      "image/png": "[encoded data removed]",
      "text/plain": [
       "<Figure size 432x288 with 1 Axes>"
      ]
     },
     "metadata": {
      "needs_background": "light"
     },
     "output_type": "display_data"
    }
   ],
   "source": [
    "pw_twill2x2_tieup = np.array([[1, 0, 0, 1, 1, 0], [1, 1, 0, 0, 0, 1], [0, 1, 1, 0, 1, 0], [0, 0, 1, 1, 0, 1]])\n",
    "pw_treadle = [[4], [5]] * 3\n",
    "pw_twill2x2_treadle = np.concatenate((np.flip(pw_treadle), straight_treadle_4, pw_treadle))\n",
    "dm.display_full_draft(pw_twill2x2_tieup, pw_twill2x2_treadle, straight_thread_4)"
   ]
  },
  {
   "attachments": {},
   "cell_type": "markdown",
   "metadata": {},
   "source": [
    "### 2x2 twill (bird's eye)\n",
    "\n",
    "Needs four harnesses, four treadles.\n",
    "An example of just using list comprehensions to convert a threading pattern to the same treadling pattern."
   ]
  },
  {
   "cell_type": "code",
   "execution_count": 59,
   "metadata": {},
   "outputs": [
    {
     "data": {
      "image/png": "[encoded data removed]",
      "text/plain": [
       "<Figure size 432x288 with 1 Axes>"
      ]
     },
     "metadata": {
      "needs_background": "light"
     },
     "output_type": "display_data"
    }
   ],
   "source": [
    "birdseye_rep = [0, 1, 2, 3, 2, 1, 0, 3, 2, 3]\n",
    "birdseye_thread = np.concatenate([birdseye_rep] * 3)\n",
    "birdseye_treadle = np.array([[x] for x in birdseye_thread])\n",
    "dm.display_full_draft(twill2x2_tieup, birdseye_treadle, birdseye_thread)"
   ]
  },
  {
   "attachments": {},
   "cell_type": "markdown",
   "metadata": {},
   "source": [
    "### 3x1 twill\n",
    "\n",
    "Needs four harnesses, four treadles."
   ]
  },
  {
   "cell_type": "code",
   "execution_count": 60,
   "metadata": {},
   "outputs": [
    {
     "data": {
      "image/png": "[encoded data removed]",
      "text/plain": [
       "<Figure size 432x288 with 1 Axes>"
      ]
     },
     "metadata": {
      "needs_background": "light"
     },
     "output_type": "display_data"
    }
   ],
   "source": [
    "twill3x1_tieup = np.array([[1, 0, 0, 0], [0, 1, 0, 0], [0, 0, 1, 0], [0, 0, 0, 1]])\n",
    "dm.display_full_draft(twill3x1_tieup, straight_treadle_4, straight_thread_4)"
   ]
  },
  {
   "attachments": {},
   "cell_type": "markdown",
   "metadata": {},
   "source": [
    "### 3x1 block twill (a.k.a. two-block twill, turned twill)\n",
    "\n",
    "Needs eight harnesses, eight treadles.\n",
    "A nice explanation of this more complex structure [here](https://www.lambontheloom.com/blog/category/block-twill)."
   ]
  },
  {
   "cell_type": "code",
   "execution_count": 61,
   "metadata": {},
   "outputs": [
    {
     "data": {
      "image/png": "[encoded data removed]",
      "text/plain": [
       "<Figure size 432x288 with 1 Axes>"
      ]
     },
     "metadata": {
      "needs_background": "light"
     },
     "output_type": "display_data"
    }
   ],
   "source": [
    "# We can get the more complex 3x1 block twill tie-up by manipulating the 3x1 twill tie-up.\n",
    "block_a = twill3x1_tieup\n",
    "# dm.display_tieup(block_a)\n",
    "\n",
    "# Block B:\n",
    "block_b = np.ones((4, 4)) - np.rot90(twill3x1_tieup)\n",
    "# dm.display_tieup(block_b)\n",
    "\n",
    "blocktwill_tieup = np.row_stack(\n",
    "    ( \n",
    "        np.column_stack((block_a, block_b)), \n",
    "        np.column_stack((block_b, block_a))\n",
    "    )\n",
    ")\n",
    "\n",
    "dm.display_tieup(blocktwill_tieup)"
   ]
  },
  {
   "cell_type": "code",
   "execution_count": 66,
   "metadata": {},
   "outputs": [
    {
     "data": {
      "image/png": "[encoded data removed]",
      "text/plain": [
       "<Figure size 432x288 with 1 Axes>"
      ]
     },
     "metadata": {
      "needs_background": "light"
     },
     "output_type": "display_data"
    }
   ],
   "source": [
    "straight_treadle_4[:8] + 4\n",
    "straight_thread_4[:8] + 4\n",
    "\n",
    "blocktwill_treadle = np.concatenate(\n",
    "    (\n",
    "        straight_treadle_4[:4] + 4,\n",
    "        straight_treadle_4[:12],\n",
    "        straight_treadle_4[:4] + 4,\n",
    "        straight_treadle_4[:4],\n",
    "        straight_treadle_4[:8] + 4\n",
    "    )\n",
    ")\n",
    "\n",
    "dm.display_treadling(blocktwill_treadle)"
   ]
  },
  {
   "cell_type": "code",
   "execution_count": 63,
   "metadata": {},
   "outputs": [
    {
     "data": {
      "image/png": "[encoded data removed]",
      "text/plain": [
       "<Figure size 432x288 with 1 Axes>"
      ]
     },
     "metadata": {
      "needs_background": "light"
     },
     "output_type": "display_data"
    }
   ],
   "source": [
    "\n",
    "blocktwill_thread = np.concatenate(\n",
    "    (\n",
    "        straight_thread_4[:8],\n",
    "        straight_thread_4[:12] + 4,\n",
    "        straight_thread_4[:8],\n",
    "        straight_thread_4[:4] + 4\n",
    "    )\n",
    ")\n",
    "\n",
    "dm.display_threading(blocktwill_thread)"
   ]
  },
  {
   "cell_type": "code",
   "execution_count": 67,
   "metadata": {},
   "outputs": [
    {
     "data": {
      "image/png": "[encoded data removed]",
      "text/plain": [
       "<Figure size 432x288 with 1 Axes>"
      ]
     },
     "metadata": {
      "needs_background": "light"
     },
     "output_type": "display_data"
    }
   ],
   "source": [
    "dm.display_full_draft(blocktwill_tieup, blocktwill_treadle, blocktwill_thread)"
   ]
  },
  {
   "attachments": {},
   "cell_type": "markdown",
   "metadata": {},
   "source": [
    "### Waffle weave\n",
    "\n",
    "Needs four harnesses, five treadles."
   ]
  },
  {
   "cell_type": "code",
   "execution_count": 65,
   "metadata": {},
   "outputs": [
    {
     "data": {
      "image/png": "[encoded data removed]",
      "text/plain": [
       "<Figure size 432x288 with 1 Axes>"
      ]
     },
     "metadata": {
      "needs_background": "light"
     },
     "output_type": "display_data"
    }
   ],
   "source": [
    "waffle_tieup = np.array([[0,0,0,1,0], [0,0,1,0,1], [0,1,0,1,1], [1,0,1,1,1]])\n",
    "zigzag_thread_4 = np.array([0,1,2,3,2,1] * 3)\n",
    "zigzag_treadle_5 = np.array([[x] for x in [0,1,2,3,4,3,2,1] * 2])\n",
    "dm.display_full_draft(waffle_tieup, zigzag_treadle_5, zigzag_thread_4)"
   ]
  }
 ],
 "metadata": {
  "kernelspec": {
   "display_name": "base",
   "language": "python",
   "name": "python3"
  },
  "language_info": {
   "codemirror_mode": {
    "name": "ipython",
    "version": 3
   },
   "file_extension": ".py",
   "mimetype": "text/x-python",
   "name": "python",
   "nbconvert_exporter": "python",
   "pygments_lexer": "ipython3",
   "version": "3.8.8"
  },
  "orig_nbformat": 4,
  "vscode": {
   "interpreter": {
    "hash": "2254d95886abd510fdbe4740a73329c02480b002321aba449e3a8ac32ef99413"
   }
  }
 },
 "nbformat": 4,
 "nbformat_minor": 2
}
