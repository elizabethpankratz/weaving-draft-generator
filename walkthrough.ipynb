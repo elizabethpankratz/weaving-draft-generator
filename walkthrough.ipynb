{
 "cells": [
  {
   "attachments": {},
   "cell_type": "markdown",
   "metadata": {},
   "source": [
    "# Walkthrough of weaving draft generator code"
   ]
  },
  {
   "cell_type": "code",
   "execution_count": 1,
   "metadata": {},
   "outputs": [],
   "source": [
    "import draftmaker as dm\n",
    "import numpy as np"
   ]
  },
  {
   "attachments": {},
   "cell_type": "markdown",
   "metadata": {},
   "source": [
    "## Anatomy of a weaving draft\n",
    "\n",
    "A typical weaving draft looks something like this:\n",
    "\n",
    "<img src=\"walkthrough_imgs/2x2twill_herringbone.png\">"
   ]
  },
  {
   "attachments": {},
   "cell_type": "markdown",
   "metadata": {},
   "source": [
    "It has four components.\n",
    "\n",
    "1) The tie-up (top right): how each of the loom's treadles are tied to each of its harnesses. One treadle can be tied to many harnesses, and one harness can be attached to multiple treadles. Each row represents one harness (numbered from bottom to top) column represents one treadle (ordered from left to right).\n",
    "\n",
    "\n",
    "2) The treadling (bottom right): the order in which the treadles are pressed down. Multiple treadles can be pressed down at once.\n",
    "\n",
    "\n",
    "3) The threading (top left): the harness that each warp end is threaded through. Each warp end can only be threaded through one harness.\n",
    "\n",
    "\n",
    "4) The fabric drawdown (bottom left): jointly determined by the tie-up, the treadling, and the threading.\n",
    "\n",
    "\n",
    "\n",
    "For a very clear explanation and illustration of the role of each of these components, see [this page by Lauren Nishizaki](https://observablehq.com/@lemonnish/generate-a-weaving-draft#cell-158)."
   ]
  }
 ],
 "metadata": {
  "kernelspec": {
   "display_name": "base",
   "language": "python",
   "name": "python3"
  },
  "language_info": {
   "codemirror_mode": {
    "name": "ipython",
    "version": 3
   },
   "file_extension": ".py",
   "mimetype": "text/x-python",
   "name": "python",
   "nbconvert_exporter": "python",
   "pygments_lexer": "ipython3",
   "version": "3.8.8"
  },
  "orig_nbformat": 4,
  "vscode": {
   "interpreter": {
    "hash": "2254d95886abd510fdbe4740a73329c02480b002321aba449e3a8ac32ef99413"
   }
  }
 },
 "nbformat": 4,
 "nbformat_minor": 2
}
